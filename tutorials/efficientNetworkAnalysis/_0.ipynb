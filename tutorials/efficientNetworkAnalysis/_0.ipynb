{
"cells": [
{
"cell_type": "markdown",
"metadata": {},
"source": [
"# Setup"
]
},
{
"cell_type": "code",
"execution_count": 1,
"metadata": {},
"outputs": [],
"source": [
"from graph_tool.all import *"
]
},
{
"cell_type": "markdown",
"metadata": {},
"source": [
"# Why Graph-tool?\n",
"\n",
"+ NetworkX is perfect for prototyping - it's flexible and provides a variety of algorithms and functions\n",
"+ Graph-tool complements NetworkX - it makes possible to scale a prototype up (see the [performance comparison results](https://graph-tool.skewed.de/performance))"
]
},
{
"cell_type": "markdown",
"metadata": {},
"source": [
"# Manipulating graphs"
]
},
{
"cell_type": "markdown",
"metadata": {},
"source": [
"## Creating a graph"
]
},
{
"cell_type": "code",
"execution_count": 14,
"metadata": {},
"outputs": [],
"source": [
"# by default, new graphs are directed\n",
"g = Graph()\n",
"\n",
"# if you want an undirected graphs\n",
"ug = Graph(directed=False)"
]
},
{
"cell_type": "code",
"execution_count": 15,
"metadata": {},
"outputs": [],
"source": [
"# to force a graph to be undirected\n",
"assert ug.is_directed() == False"
]
},
{
"cell_type": "markdown",
"metadata": {},
"source": [
"## Adding vertices and edges linking vertices"
]
},
{
"cell_type": "code",
"execution_count": 18,
"metadata": {},
"outputs": [],
"source": [
"# adding vertices one-by-one\n",
"v1 = g.add_vertex()\n",
"v2 = g.add_vertex()"
]
},
{
"cell_type": "code",
"execution_count": 19,
"metadata": {},
"outputs": [],
"source": [
"# adding multiple vertices in a row\n",
"vlist = g.add_vertex(2)"
]
},
{
"cell_type": "code",
"execution_count": null,
"metadata": {},
"outputs": [],
"source": [
"# edges\n",
"e = g.add_edge(v1, v2)"
]
},
{
"cell_type": "code",
"execution_count": 17,
"metadata": {},
"outputs": [
{
"name": "stdout",
"output_type": "stream",
"text": [
"0 1\n"
]
}
],
"source": [
"# calling edges\n",
"print(e.source(), e.target())"
]
},
{
"cell_type": "markdown",
"metadata": {},
"source": [
"## Iterating over vertices and edges"
]
},
{
"cell_type": "code",
"execution_count": 22,
"metadata": {},
"outputs": [
{
"name": "stdout",
"output_type": "stream",
"text": [
"0\n",
"1\n",
"2\n",
"3\n",
"4\n",
"5\n",
"(0, 1)\n"
]
}
],
"source": [
"for v in g.vertices():\n",
"    print(v)\n",
"    \n",
"\n",
"for e in g.edges():\n",
"    print(e)\n",
"    \n"
]
},
{
"cell_type": "markdown",
"metadata": {},
"source": [
"## Iterating over the neighbors of a vertex"
]
},
{
"cell_type": "code",
"execution_count": 24,
"metadata": {},
"outputs": [
{
"name": "stdout",
"output_type": "stream",
"text": [
"(0, 1)\n",
"1\n"
]
}
],
"source": [
"# ptyhon way\n",
"for v in g.vertices():\n",
"   for e in v.out_edges():\n",
"       print(e)\n",
"   for w in v.out_neighbors():\n",
"       print(w)\n",
"    \n"
]
},
{
"cell_type": "code",
"execution_count": 25,
"metadata": {},
"outputs": [
{
"name": "stdout",
"output_type": "stream",
"text": [
"[1 0 0 0 0 0]\n"
]
}
],
"source": [
"# numpy way\n",
"\n",
"'''\n",
"Following the numpy philosophy, graph_tool also provides an array-based \n",
"interface that avoids loops in Python. This is done with the:\n",
"\n",
"- get_vertices()\n",
"- get_edges()\n",
"- get_out_edges()\n",
"- get_in_edges()\n",
"- get_all_edges()\n",
"- get_out_neighbors()\n",
"- get_in_neighbors()\n",
"- get_all_neighbors()\n",
"- get_out_degrees()\n",
"- get_in_degrees()\n",
"- get_total_degrees() methods\n",
"\n",
"All these function return numpy.ndarray instances instead of iterators.\n",
"'''\n",
"\n",
"print(g.get_out_degrees(g.get_vertices()))"
]
},
{
"cell_type": "markdown",
"metadata": {},
"source": [
"# I/O"
]
},
{
"cell_type": "code",
"execution_count": 26,
"metadata": {},
"outputs": [],
"source": [
"# create a graph\n",
"g = Graph()\n",
"\n",
"# write data to a compressed, xml\n",
"g.save(\"my_graph.xml.gz\")\n",
"\n",
"# load data back\n",
"g2 = load_graph(\"my_graph.xml.gz\")"
]
},
{
"cell_type": "markdown",
"metadata": {},
"source": [
"# Drawing a network"
]
},
{
"cell_type": "code",
"execution_count": 11,
"metadata": {},
"outputs": [
{
"data": {
"image/png": "[encoded data removed]",
"text/plain": [
"<IPython.core.display.Image object>"
]
},
"metadata": {},
"output_type": "display_data"
},
{
"data": {
"text/plain": [
"<VertexPropertyMap object with value type 'vector<double>', for Graph 0x7fa2fcccc860, at 0x7fa2c5366908>"
]
},
"execution_count": 11,
"metadata": {},
"output_type": "execute_result"
}
],
"source": [
"# gt has a builtin function\n",
"graph_draw(g,\n",
"           vertex_text=g.vertex_index,\n",
"           vertex_font_size=18,\n",
"           output_size=(200, 200),\n",
"           #output=\"two-nodes.png\")\n",
"          )"
]
},
{
"cell_type": "markdown",
"metadata": {},
"source": [
"# Fully-developed example\n",
"\n",
"The task consists of building a Price network (the one that existed before Barabasi). It is a directed network, with preferential attachment. "
]
},
{
"cell_type": "code",
"execution_count": 29,
"metadata": {},
"outputs": [],
"source": [
"# load libraries\n",
"from __future__ import division, absolute_import, print_function\n",
"import sys\n",
"if sys.version_info < (3,):\n",
"    range = xrange\n",
"import os\n",
"from pylab import *         # for plotting\n",
"from numpy.random import *  # for random sampling"
]
},
{
"cell_type": "code",
"execution_count": 30,
"metadata": {},
"outputs": [],
"source": [
"# fixing a seed that ensures reproducibility\n",
"seed(42)"
]
},
{
"cell_type": "code",
"execution_count": 31,
"metadata": {},
"outputs": [],
"source": [
"# empty graph\n",
"g = Graph()"
]
},
{
"cell_type": "code",
"execution_count": 32,
"metadata": {},
"outputs": [],
"source": [
"# create two containers in which we store vertex- and edge-level property\n",
"v_age = g.new_vertex_property(\"int\")\n",
"e_age = g.new_edge_property(\"int\")"
]
},
{
"cell_type": "code",
"execution_count": 33,
"metadata": {},
"outputs": [
{
"name": "stdout",
"output_type": "stream",
"text": [
"vertex: 36063 in-degree: 0 out-degree: 1 age: 36063\n",
"vertex: 9075 in-degree: 4 out-degree: 1 age: 9075\n",
"vertex: 5967 in-degree: 3 out-degree: 1 age: 5967\n",
"vertex: 1113 in-degree: 7 out-degree: 1 age: 1113\n",
"vertex: 25 in-degree: 84 out-degree: 1 age: 25\n",
"vertex: 10 in-degree: 541 out-degree: 1 age: 10\n",
"vertex: 5 in-degree: 140 out-degree: 1 age: 5\n",
"vertex: 2 in-degree: 459 out-degree: 1 age: 2\n",
"vertex: 1 in-degree: 520 out-degree: 1 age: 1\n",
"vertex: 0 in-degree: 210 out-degree: 0 age: 0\n",
"Nowhere else to go... We found the main hub!\n"
]
}
],
"source": [
"# network simulation\n",
"N = 100000\n",
"\n",
"# We have to start with one vertex\n",
"v = g.add_vertex()\n",
"v_age[v] = 0\n",
"\n",
"# we will keep a list of the vertices. The number of times a vertex is in this\n",
"# list will give the probability of it being selected.\n",
"vlist = [v]\n",
"\n",
"# let's now add the new edges and vertices\n",
"for i in range(1, N):\n",
"    # create our new vertex\n",
"    v = g.add_vertex()\n",
"    v_age[v] = i\n",
"\n",
"    # we need to sample a new vertex to be the target, based on its in-degree +\n",
"    # 1. For that, we simply randomly sample it from vlist.\n",
"    i = randint(0, len(vlist))\n",
"    target = vlist[i]\n",
"\n",
"    # add edge\n",
"    e = g.add_edge(v, target)\n",
"    e_age[e] = i\n",
"\n",
"    # put v and target in the list\n",
"    vlist.append(target)\n",
"    vlist.append(v)\n",
"\n",
"# now we have a graph!\n",
"\n",
"# let's do a random walk on the graph and print the age of the vertices we find,\n",
"# just for fun.\n",
"\n",
"v = g.vertex(randint(0, g.num_vertices()))\n",
"while True:\n",
"    print(\"vertex:\", int(v), \"in-degree:\", v.in_degree(), \"out-degree:\",\n",
"          v.out_degree(), \"age:\", v_age[v])\n",
"\n",
"    if v.out_degree() == 0:\n",
"        print(\"Nowhere else to go... We found the main hub!\")\n",
"        break\n",
"\n",
"    n_list = []\n",
"    for w in v.out_neighbors():\n",
"        n_list.append(w)\n",
"    v = n_list[randint(0, len(n_list))]\n",
"\n",
"# let's save our graph for posterity. We want to save the age properties as\n",
"# well... To do this, they must become \"internal\" properties:\n",
"\n",
"g.vertex_properties[\"age\"] = v_age\n",
"g.edge_properties[\"age\"] = e_age\n",
"\n",
"# now we can save it\n",
"g.save(\"price.xml.gz\")"
]
},
{
"cell_type": "code",
"execution_count": 37,
"metadata": {},
"outputs": [
{
"data": {
"image/png": "[encoded data removed]",
"text/plain": [
"<Figure size 432x288 with 1 Axes>"
]
},
"metadata": {
"needs_background": "light"
},
"output_type": "display_data"
}
],
"source": [
"# get node in-degree\n",
"in_hist = vertex_hist(g, \"in\")\n",
"\n",
"# data series\n",
"# --+ point estimates\n",
"y = in_hist[0]\n",
"# --+ confidence interval\n",
"err = sqrt(in_hist[0])\n",
"err[err >= y] = y[err >= y] - 1e-2\n",
"\n",
"# create figure\n",
"figure(figsize=(6,4))\n",
"\n",
"# plot data with Matplotlib errorbar\n",
"errorbar(in_hist[1][:-1], in_hist[0],\n",
"         fmt=\"o\", alpha=0.5,\n",
"         yerr=err,\n",
"         label=\"in\")\n",
"\n",
"# axes\n",
"gca().set_yscale(\"log\")\n",
"gca().set_xscale(\"log\")\n",
"gca().set_ylim(1e-1, 1e5)\n",
"gca().set_xlim(0.8, 1e3)\n",
"\n",
"# \n",
"subplots_adjust(left=0.2, bottom=0.2)\n",
"\n",
"# labels\n",
"xlabel(\"$k_{in}$\")\n",
"ylabel(\"$Prob(k_{in})$\")\n",
"\n",
"# save figure\n",
"tight_layout()\n",
"savefig(\"price-deg-dist.pdf\")\n",
"savefig(\"price-deg-dist.svg\")"
]
},
{
"cell_type": "code",
"execution_count": 36,
"metadata": {},
"outputs": [
{
"data": {
"text/plain": [
"<VertexPropertyMap object with value type 'vector<double>', for Graph 0x7fa2ba614cc0, at 0x7fa2ba63e048>"
]
},
"execution_count": 36,
"metadata": {},
"output_type": "execute_result"
}
],
"source": [
"# drawing the simulated Price network\n",
"\n",
"# load data\n",
"g = load_graph(\"price.xml.gz\")\n",
"\n",
"# recall the age of vertices\n",
"age = g.vertex_properties[\"age\"]\n",
"\n",
"# create node-level positions\n",
"pos = sfdp_layout(g)\n",
"\n",
"# draw the network\n",
"graph_draw(g,\n",
"           pos,\n",
"           output_size=(1000, 1000),\n",
"           vertex_color=[1,1,1,0],\n",
"           vertex_fill_color=age,\n",
"           vertex_size=1,\n",
"           edge_pen_width=1.2,\n",
"           vcmap=matplotlib.cm.gist_heat_r,\n",
"           output=\"price.png\")"
]
}
],
"metadata": {
"kernelspec": {
"display_name": "Python 3",
"language": "python",
"name": "python3"
},
"language_info": {
"codemirror_mode": {
"name": "ipython",
"version": 3
},
"file_extension": ".py",
"mimetype": "text/x-python",
"name": "python",
"nbconvert_exporter": "python",
"pygments_lexer": "ipython3",
"version": "3.7.3"
}
},
"nbformat": 4,
"nbformat_minor": 2
}
