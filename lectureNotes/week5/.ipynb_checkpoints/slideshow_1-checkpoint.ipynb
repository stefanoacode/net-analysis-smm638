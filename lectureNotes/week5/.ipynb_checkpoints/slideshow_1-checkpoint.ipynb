{
 "cells": [
  {
   "cell_type": "markdown",
   "metadata": {
    "slideshow": {
     "slide_type": "slide"
    },
    "toc": true
   },
   "source": [
    "<h1>Table of Contents<span class=\"tocSkip\"></span></h1>\n",
    "<div class=\"toc\"><ul class=\"toc-item\"><li><span><a href=\"#Network-analytics-―-week-5\" data-toc-modified-id=\"Network-analytics-―-week-5-1\">Network analytics ― week 5</a></span></li><li><span><a href=\"#Agenda\" data-toc-modified-id=\"Agenda-2\">Agenda</a></span></li><li><span><a href=\"#Scale-free-networks\" data-toc-modified-id=\"Scale-free-networks-3\">Scale free networks</a></span></li><li><span><a href=\"#How-does-the-WWW-network-look-like?\" data-toc-modified-id=\"How-does-the-WWW-network-look-like?-4\">How does the WWW network look like?</a></span></li><li><span><a href=\"#A-crawler-in-action\" data-toc-modified-id=\"A-crawler-in-action-5\">A crawler in action</a></span></li><li><span><a href=\"#Jeong's-conclusion\" data-toc-modified-id=\"Jeong's-conclusion-6\">Jeong's conclusion</a></span></li><li><span><a href=\"#However,-...\" data-toc-modified-id=\"However,-...-7\">However, ...</a></span></li><li><span><a href=\"#In-fact,-...\" data-toc-modified-id=\"In-fact,-...-8\">In fact, ...</a></span></li><li><span><a href=\"#The-power-law-distribution\" data-toc-modified-id=\"The-power-law-distribution-9\">The power law distribution</a></span></li><li><span><a href=\"#Power-laws-and-scale-free-networks\" data-toc-modified-id=\"Power-laws-and-scale-free-networks-10\">Power laws and scale-free networks</a></span></li><li><span><a href=\"#Scale-free-vs-random-networks\" data-toc-modified-id=\"Scale-free-vs-random-networks-11\">Scale free vs random networks</a></span></li><li><span><a href=\"#Hubs-and-scale-free-networks\" data-toc-modified-id=\"Hubs-and-scale-free-networks-12\">Hubs and scale-free networks</a></span></li><li><span><a href=\"#Hubs-are-large-in-scale-free-networks\" data-toc-modified-id=\"Hubs-are-large-in-scale-free-networks-13\">Hubs are large in scale-free networks</a></span></li><li><span><a href=\"#Hubs-are-large-in-scale-free-networks\" data-toc-modified-id=\"Hubs-are-large-in-scale-free-networks-14\">Hubs are large in scale-free networks</a></span></li><li><span><a href=\"#Random-vs-scale-free-networks\" data-toc-modified-id=\"Random-vs-scale-free-networks-15\">Random vs scale-free networks</a></span></li><li><span><a href=\"#Visualization-of-a-scale-free-network\" data-toc-modified-id=\"Visualization-of-a-scale-free-network-16\">Visualization of a scale-free network</a></span></li><li><span><a href=\"#Many-real-world-networks-are-scale-free\" data-toc-modified-id=\"Many-real-world-networks-are-scale-free-17\">Many real-world networks are scale-free</a></span></li><li><span><a href=\"#The-Barabasi-Albert-model\" data-toc-modified-id=\"The-Barabasi-Albert-model-18\">The Barabasi-Albert model</a></span></li><li><span><a href=\"#Networks-expand-through-the-addition-of-new-nodes\" data-toc-modified-id=\"Networks-expand-through-the-addition-of-new-nodes-19\">Networks expand through the addition of new nodes</a></span></li><li><span><a href=\"#Nodes-have-heterogeneous-probabilities-to-form-new-ties\" data-toc-modified-id=\"Nodes-have-heterogeneous-probabilities-to-form-new-ties-20\">Nodes have heterogeneous probabilities to form new ties</a></span></li><li><span><a href=\"#Growth-+-preferential-attachement\" data-toc-modified-id=\"Growth-+-preferential-attachement-21\">Growth + preferential attachement</a></span></li><li><span><a href=\"#Research-on-preferential-attachement-mechanisms\" data-toc-modified-id=\"Research-on-preferential-attachement-mechanisms-22\">Research on preferential attachement mechanisms</a></span></li><li><span><a href=\"#The-Barabási-Albert-Model\" data-toc-modified-id=\"The-Barabási-Albert-Model-23\">The Barabási-Albert Model</a></span></li></ul></div>"
   ]
  },
  {
   "cell_type": "markdown",
   "metadata": {
    "slideshow": {
     "slide_type": "slide"
    }
   },
   "source": [
    "# Network analytics ― week 5\n",
    "\n",
    "![](images/14840495571_81ca4e1ebe_o.png)"
   ]
  },
  {
   "cell_type": "markdown",
   "metadata": {
    "slideshow": {
     "slide_type": "slide"
    }
   },
   "source": [
    "# Agenda\n",
    "\n",
    "- scale-free networks\n",
    "- preferential attachment\n",
    "- Barabasi-Albert Model"
   ]
  },
  {
   "cell_type": "markdown",
   "metadata": {
    "slideshow": {
     "slide_type": "slide"
    }
   },
   "source": [
    "# Scale free networks"
   ]
  },
  {
   "cell_type": "markdown",
   "metadata": {
    "slideshow": {
     "slide_type": "subslide"
    }
   },
   "source": [
    "# How does the WWW network look like?"
   ]
  },
  {
   "cell_type": "markdown",
   "metadata": {
    "slideshow": {
     "slide_type": "fragment"
    }
   },
   "source": [
    "- with an estimated size of over one trillion documents (N≈10<sup>12</sup>), the Web is the largest network humanity has ever built. It exceeds in size even the human brain (N ≈ 10<sup>11</sup>neurons)"
   ]
  },
  {
   "cell_type": "markdown",
   "metadata": {
    "slideshow": {
     "slide_type": "fragment"
    }
   },
   "source": [
    "- crawlers allow us to map out the Web’s wiring diagram. A crawler can start from any web document, identifying the links (URLs) on it. Next it downloads the documents these links point to and identifies the links on these documents, and so on"
   ]
  },
  {
   "cell_type": "markdown",
   "metadata": {
    "slideshow": {
     "slide_type": "subslide"
    }
   },
   "source": [
    "# A crawler in action\n",
    "\n",
    "![](images/figure-4-1.jpg)\n",
    "\n",
    "Source: Hawoong Jeong (1998)"
   ]
  },
  {
   "cell_type": "markdown",
   "metadata": {
    "slideshow": {
     "slide_type": "subslide"
    }
   },
   "source": [
    "# Jeong's conclusion\n",
    "\n",
    "- in 1998, there were reasons to believe that the WWW could be well approximated by a random network\n",
    "- the content of each document reflects the personal and professional interests of its creator, from individuals to organizations\n",
    "- given the diversity of these interests, the links on these documents might appear to point to randomly chosen documents "
   ]
  },
  {
   "cell_type": "markdown",
   "metadata": {
    "slideshow": {
     "slide_type": "subslide"
    }
   },
   "source": [
    "# However, ... "
   ]
  },
  {
   "cell_type": "markdown",
   "metadata": {
    "cell_style": "split",
    "slideshow": {
     "slide_type": "fragment"
    }
   },
   "source": [
    "- a closer inspection reveals some puzzling differences between this map and a random network\n",
    "- indeed, in a random network highly connected nodes, or hubs, are effectively forbidden. In contrast in Image 4.1 numerous small-degree nodes coexist with a few hubs, nodes with an exceptionally large number of links "
   ]
  },
  {
   "cell_type": "markdown",
   "metadata": {
    "cell_style": "split",
    "slideshow": {
     "slide_type": "fragment"
    }
   },
   "source": [
    "![](images/figure-4-1.jpg)"
   ]
  },
  {
   "cell_type": "markdown",
   "metadata": {
    "slideshow": {
     "slide_type": "subslide"
    }
   },
   "source": [
    "# In fact, ...\n",
    "\n",
    "![](images/figure-4-2.jpg)\n",
    "\n",
    "Notes.―The incoming (a) and outgoing (b) degree distribution of the WWW sample mapped in the 1999 study of Albert et al. The degree distribution is shown on double logarithmic axis (log-log plot), in which a power law follows a straight line. The symbols correspond to the empirical data and the line corresponds to the power-law fit, with degree exponents $y_{in}$ = 2.1 and $y_{out}$ = 2.45. We also show as a green line the degree distribution predicted by a Poisson function with the average degree $\\langle k_{in} \\rangle$ = 〈$\\langle k_{out} \\rangle$ = 4.60 of the WWW sample. "
   ]
  },
  {
   "cell_type": "markdown",
   "metadata": {
    "slideshow": {
     "slide_type": "subslide"
    }
   },
   "source": [
    "# The power law distribution\n",
    "\n",
    "In the context of the WWW, we can approximate the degree distribution using a power law function:\n",
    "\n",
    "$p_{k} \\sim k^{-\\gamma}$\n",
    "\n",
    "If we take a log transformation:\n",
    "\n",
    "$lm \\ p_{k} \\sim -\\gamma \\ lm \\ k$"
   ]
  },
  {
   "cell_type": "markdown",
   "metadata": {
    "slideshow": {
     "slide_type": "subslide"
    }
   },
   "source": [
    "# Power laws and scale-free networks"
   ]
  },
  {
   "cell_type": "markdown",
   "metadata": {
    "slideshow": {
     "slide_type": "fragment"
    }
   },
   "source": [
    "- networks whose degree distribution follows a power law are called scale-free networks"
   ]
  },
  {
   "cell_type": "markdown",
   "metadata": {
    "slideshow": {
     "slide_type": "fragment"
    }
   },
   "source": [
    "- we use the attribute 'scale-free' to indicate $\\langle k \\rangle$ doesn't tell anything meaningful about the 'scale' of the network"
   ]
  },
  {
   "cell_type": "markdown",
   "metadata": {
    "slideshow": {
     "slide_type": "fragment"
    }
   },
   "source": [
    "- if a network is directed, the scale-free property applies separately to the in- and the out-degrees"
   ]
  },
  {
   "cell_type": "markdown",
   "metadata": {
    "slideshow": {
     "slide_type": "subslide"
    }
   },
   "source": [
    "# Scale free vs random networks"
   ]
  },
  {
   "cell_type": "markdown",
   "metadata": {
    "cell_style": "center",
    "slideshow": {
     "slide_type": "fragment"
    }
   },
   "source": [
    "The main difference between a random and a scale-free network comes in the tail of the degree distribution, representing the high-k region of pk. "
   ]
  },
  {
   "cell_type": "markdown",
   "metadata": {
    "cell_style": "split",
    "slideshow": {
     "slide_type": "fragment"
    }
   },
   "source": [
    "- for small $k$ the power law is above the Poisson function, indicating that a scale-free network has a large number of small degree nodes, most of which are absent in a random network.\n",
    "- for $k$ in the vicinity of $\\langle k \\rangle$ the Poisson distribution is above the power law, indicating that in a random network there is an excess of nodes with degree $k \\sim \\langle k \\rangle$.\n",
    "- for large $k$ the power law is again above the Poisson curve. The difference is particularly visible if we show $pk$ on a log-log plot, indicating that the probability of observing a high-degree node, or hub, is several orders of magnitude higher in a scale-free than in a random network."
   ]
  },
  {
   "cell_type": "markdown",
   "metadata": {
    "cell_style": "split",
    "slideshow": {
     "slide_type": "fragment"
    }
   },
   "source": [
    "![](images/figure-4-4.jpg)"
   ]
  },
  {
   "cell_type": "markdown",
   "metadata": {
    "slideshow": {
     "slide_type": "subslide"
    }
   },
   "source": [
    "# Hubs and scale-free networks"
   ]
  },
  {
   "cell_type": "markdown",
   "metadata": {
    "slideshow": {
     "slide_type": "fragment"
    }
   },
   "source": [
    "![](images/figure-4-4.jpg)"
   ]
  },
  {
   "cell_type": "markdown",
   "metadata": {
    "slideshow": {
     "slide_type": "subslide"
    }
   },
   "source": [
    "# Hubs are large in scale-free networks\n",
    "\n",
    "![](images/figure-4-5.jpg)"
   ]
  },
  {
   "cell_type": "markdown",
   "metadata": {
    "slideshow": {
     "slide_type": "subslide"
    }
   },
   "source": [
    "# Hubs are large in scale-free networks\n",
    "\n",
    "![](images/figure-4-6.jpg)"
   ]
  },
  {
   "cell_type": "markdown",
   "metadata": {
    "slideshow": {
     "slide_type": "subslide"
    }
   },
   "source": [
    "# Random vs scale-free networks"
   ]
  },
  {
   "cell_type": "markdown",
   "metadata": {
    "slideshow": {
     "slide_type": "fragment"
    }
   },
   "source": [
    "- the degrees of a random network follow a Poisson distribution, rather similar to a bell curve. Therefore most nodes have comparable degrees and nodes with a large number of links are absent"
   ]
  },
  {
   "cell_type": "markdown",
   "metadata": {
    "slideshow": {
     "slide_type": "fragment"
    }
   },
   "source": [
    "- a random network looks a bit like the national highway network in which nodes are cities and links are the major highways. There are no cities with hundreds of highways and no city is disconnected from the highway system"
   ]
  },
  {
   "cell_type": "markdown",
   "metadata": {
    "slideshow": {
     "slide_type": "fragment"
    }
   },
   "source": [
    "- in a network with a power-law degree distribution most nodes have only a few links. These numerous small nodes are held together by a few highly connected hubs."
   ]
  },
  {
   "cell_type": "markdown",
   "metadata": {
    "slideshow": {
     "slide_type": "fragment"
    }
   },
   "source": [
    "- a scale-free network looks like the air-traffic network, whose nodes are airports and links are the direct flights between them. Most airports are tiny, with only a few flights. Yet, we have a few very large airports, like Chicago or Los Angeles, that act as major hubs, connecting many smaller airports"
   ]
  },
  {
   "cell_type": "markdown",
   "metadata": {
    "slideshow": {
     "slide_type": "fragment"
    }
   },
   "source": [
    "- once hubs are present, they change the way we navigate the network. For example, if we travel from Boston to Los Angeles by car, we must drive through many cities. On the airplane network, however, we can reach most destinations via a single hub, like Chicago"
   ]
  },
  {
   "cell_type": "markdown",
   "metadata": {
    "slideshow": {
     "slide_type": "subslide"
    }
   },
   "source": [
    "# Visualization of a scale-free network\n",
    "\n",
    "The web in the early 21<sup>st</sup> century\n",
    "\n",
    "![](images/figure-4-9.jpg)\n",
    "\n",
    "Source: CAIDA "
   ]
  },
  {
   "cell_type": "markdown",
   "metadata": {
    "slideshow": {
     "slide_type": "subslide"
    }
   },
   "source": [
    "# Many real-world networks are scale-free"
   ]
  },
  {
   "cell_type": "markdown",
   "metadata": {
    "cell_style": "split",
    "slideshow": {
     "slide_type": "fragment"
    }
   },
   "source": [
    "<img src=\"images/figure-4-10.png\" alt=\"Drawing\" style=\"width: 800px;\"/>"
   ]
  },
  {
   "cell_type": "markdown",
   "metadata": {
    "cell_style": "split",
    "slideshow": {
     "slide_type": "fragment"
    }
   },
   "source": [
    "\n",
    "\n",
    "Notes.― c. email network; d. citation network."
   ]
  },
  {
   "cell_type": "markdown",
   "metadata": {
    "slideshow": {
     "slide_type": "slide"
    }
   },
   "source": [
    "# The Barabasi-Albert model\n",
    "\n",
    "- hubs represent the most striking difference between a random and a scale-free network\n",
    "- the very existence of these hubs and the related scale-free topology raises a fundamental question: Why does the random network model (i.e., Erdős and Rényi's model) fail to reproduce the hubs and the power laws observed in real networks?\n"
   ]
  },
  {
   "cell_type": "markdown",
   "metadata": {
    "slideshow": {
     "slide_type": "subslide"
    }
   },
   "source": [
    "# Networks expand through the addition of new nodes"
   ]
  },
  {
   "cell_type": "markdown",
   "metadata": {
    "cell_style": "split",
    "slideshow": {
     "slide_type": "fragment"
    }
   },
   "source": [
    "The random network model assumes that we have a fixed number of nodes, $N$. Yet, in real networks the number of nodes continually grows thanks to the addition of new nodes. Consider a few examples:\n",
    "\n",
    "- in 1991 the WWW had a single node, the first webpage build by Tim Berners-Lee, the creator of the Web. Today the Web has over a trillion (10<sup>12</sup>) documents, an extraordinary number that was reached through the continuous addition of new documents by millions of individuals and institution\n",
    "- the collaboration and the citation network continually expands through the publication of new research papers.\n",
    "- the actor network continues to expand through the release of new movies"
   ]
  },
  {
   "cell_type": "markdown",
   "metadata": {
    "cell_style": "split",
    "slideshow": {
     "slide_type": "fragment"
    }
   },
   "source": [
    "<img src=\"images/figure-5-1.jpg\" alt=\"Drawing\" style=\"width: 600px;\"/>"
   ]
  },
  {
   "cell_type": "markdown",
   "metadata": {
    "slideshow": {
     "slide_type": "subslide"
    }
   },
   "source": [
    "# Nodes have heterogeneous probabilities to form new ties"
   ]
  },
  {
   "cell_type": "markdown",
   "metadata": {
    "cell_style": "center",
    "slideshow": {
     "slide_type": "fragment"
    }
   },
   "source": [
    "Iconic case:\n",
    "\n",
    "- The more movies an actor has played in, the more familiar is a casting director with her skills\n",
    "- Hence, the higher the degree of an actor in the actor network, the higher are the chances that she will be considered for a new role. "
   ]
  },
  {
   "cell_type": "markdown",
   "metadata": {
    "slideshow": {
     "slide_type": "slide"
    }
   },
   "source": [
    "# Growth + preferential attachement\n",
    "\n",
    "In summary, the random network model differs from real networks in two important characteristics:\n",
    "\n",
    "- **growth**: real networks are the result of a growth process that continuously increases N. In contrast the random network model assumes that the number of nodes, N, is fixed.\n",
    "- **preferential attachment**: in real networks new nodes tend to link to the more connected nodes. In contrast nodes in random networks randomly choose their interaction partners.\n"
   ]
  },
  {
   "cell_type": "markdown",
   "metadata": {
    "slideshow": {
     "slide_type": "subslide"
    }
   },
   "source": [
    "# Research on preferential attachement mechanisms\n",
    "\n",
    "![](images/figure-5-2.jpg)"
   ]
  },
  {
   "cell_type": "markdown",
   "metadata": {
    "slideshow": {
     "slide_type": "slide"
    }
   },
   "source": [
    "# The Barabási-Albert Model"
   ]
  },
  {
   "cell_type": "markdown",
   "metadata": {
    "cell_style": "center",
    "slideshow": {
     "slide_type": "fragment"
    }
   },
   "source": [
    "The recognition that growth and preferential attachment coexist in real networks has inspired a minimal model called the Barabási-Albert model, which can generate scale-free networks. Also known as the BA model or the scale-free model, it is defined as follows:\n",
    "\n",
    "- we start with $m_{0}$ nodes, the links between which are chosen arbitrarily, as long as each node has at least one link. The network develops following two steps:\n",
    "    - **growth** $\\rightarrow$ at each timestep we add a new node with $m$ ($≤ m_{0}$) links that connect the new node to m nodes already in the network\n",
    "    - **preferential attachment** $\\rightarrow$ the probability $\\Pi(k)$ that a link of the new node connects to node $i$ depends on the degree $k_{i}$ "
   ]
  },
  {
   "cell_type": "markdown",
   "metadata": {
    "cell_style": "center",
    "slideshow": {
     "slide_type": "fragment"
    }
   },
   "source": [
    "![](images/figure-5-3.jpg)\n",
    "\n",
    "Link to video: http://networksciencebook.com/images/ch-05/video-5-2.mov"
   ]
  }
 ],
 "metadata": {
  "author": "l",
  "celltoolbar": "Slideshow",
  "hide_input": false,
  "kernelspec": {
   "display_name": "Python 3",
   "language": "python",
   "name": "python3"
  },
  "language_info": {
   "codemirror_mode": {
    "name": "ipython",
    "version": 3
   },
   "file_extension": ".py",
   "mimetype": "text/x-python",
   "name": "python",
   "nbconvert_exporter": "python",
   "pygments_lexer": "ipython3",
   "version": "3.8.6"
  },
  "latex_envs": {
   "LaTeX_envs_menu_present": true,
   "autoclose": false,
   "autocomplete": true,
   "bibliofile": "biblio.bib",
   "cite_by": "apalike",
   "current_citInitial": 1,
   "eqLabelWithNumbers": true,
   "eqNumInitial": 1,
   "hotkeys": {
    "equation": "Ctrl-E",
    "itemize": "Ctrl-I"
   },
   "labels_anchors": false,
   "latex_user_defs": false,
   "report_style_numbering": false,
   "user_envs_cfg": false
  },
  "nbTranslate": {
   "displayLangs": [
    "*"
   ],
   "hotkey": "alt-t",
   "langInMainMenu": true,
   "sourceLang": "en",
   "targetLang": "fr",
   "useGoogleTranslate": true
  },
  "rise": {
   "enable_chalkboard": true
  },
  "toc": {
   "base_numbering": 1,
   "nav_menu": {},
   "number_sections": false,
   "sideBar": true,
   "skip_h1_title": false,
   "title_cell": "Table of Contents",
   "title_sidebar": "Contents",
   "toc_cell": true,
   "toc_position": {
    "height": "calc(100% - 180px)",
    "left": "10px",
    "top": "150px",
    "width": "381.854px"
   },
   "toc_section_display": true,
   "toc_window_display": false
  },
  "varInspector": {
   "cols": {
    "lenName": 16,
    "lenType": 16,
    "lenVar": 40
   },
   "kernels_config": {
    "python": {
     "delete_cmd_postfix": "",
     "delete_cmd_prefix": "del ",
     "library": "var_list.py",
     "varRefreshCmd": "print(var_dic_list())"
    },
    "r": {
     "delete_cmd_postfix": ") ",
     "delete_cmd_prefix": "rm(",
     "library": "var_list.r",
     "varRefreshCmd": "cat(var_dic_list()) "
    }
   },
   "types_to_exclude": [
    "module",
    "function",
    "builtin_function_or_method",
    "instance",
    "_Feature"
   ],
   "window_display": false
  }
 },
 "nbformat": 4,
 "nbformat_minor": 2
}
