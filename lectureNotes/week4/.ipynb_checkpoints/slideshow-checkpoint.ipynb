{
 "cells": [
  {
   "cell_type": "markdown",
   "metadata": {
    "slideshow": {
     "slide_type": "slide"
    },
    "toc": true
   },
   "source": [
    "<h1>Table of Contents<span class=\"tocSkip\"></span></h1>\n",
    "<div class=\"toc\"><ul class=\"toc-item\"><li><span><a href=\"#Network-analytics-―-week-4\" data-toc-modified-id=\"Network-analytics-―-week-4-1\">Network analytics ― week 4</a></span></li><li><span><a href=\"#Agenda\" data-toc-modified-id=\"Agenda-2\">Agenda</a></span></li><li><span><a href=\"#Why-do-networks-look-how-they-look?\" data-toc-modified-id=\"Why-do-networks-look-how-they-look?-3\">Why do networks look how they look?</a></span></li><li><span><a href=\"#Homophily\" data-toc-modified-id=\"Homophily-4\">Homophily</a></span></li><li><span><a href=\"#Theory-background\" data-toc-modified-id=\"Theory-background-5\">Theory background</a></span></li><li><span><a href=\"#Example:-Friendship-network-in-a-high-school\" data-toc-modified-id=\"Example:-Friendship-network-in-a-high-school-6\">Example: Friendship network in a high-school</a></span></li><li><span><a href=\"#Example:-Romantic-relationship\" data-toc-modified-id=\"Example:-Romantic-relationship-7\">Example: Romantic relationship</a></span></li><li><span><a href=\"#Example:-Managerial-networks\" data-toc-modified-id=\"Example:-Managerial-networks-8\">Example: Managerial networks</a></span></li><li><span><a href=\"#When-does-a-network-reflect-homophily?\" data-toc-modified-id=\"When-does-a-network-reflect-homophily?-9\">When does a network reflect homophily?</a></span></li><li><span><a href=\"#Measures-of-homophily\" data-toc-modified-id=\"Measures-of-homophily-10\">Measures of homophily</a></span></li><li><span><a href=\"#Let's-focus-on-the-network-level-measure-of-homophily\" data-toc-modified-id=\"Let's-focus-on-the-network-level-measure-of-homophily-11\">Let's focus on the network-level measure of homophily</a></span></li><li><span><a href=\"#Intuition\" data-toc-modified-id=\"Intuition-12\">Intuition</a></span></li><li><span><a href=\"#Mathematical-representation\" data-toc-modified-id=\"Mathematical-representation-13\">Mathematical representation</a></span></li><li><span><a href=\"#Mechanisms-underlying-homophily\" data-toc-modified-id=\"Mechanisms-underlying-homophily-14\">Mechanisms underlying homophily</a></span></li><li><span><a href=\"#The-interplay-between-selection-and-socialization:-Example\" data-toc-modified-id=\"The-interplay-between-selection-and-socialization:-Example-15\">The interplay between selection and socialization: Example</a></span></li><li><span><a href=\"#Example-(cont'd)\" data-toc-modified-id=\"Example-(cont'd)-16\">Example (cont'd)</a></span></li><li><span><a href=\"#How-do-social-and-affiliation-networks-co-evolve?\" data-toc-modified-id=\"How-do-social-and-affiliation-networks-co-evolve?-17\">How do social and affiliation networks co-evolve?</a></span></li><li><span><a href=\"#How-do-homophily-mechanisms-matter-in-this-context?\" data-toc-modified-id=\"How-do-homophily-mechanisms-matter-in-this-context?-18\">How do homophily mechanisms matter in this context?</a></span></li><li><span><a href=\"#Let's-consider-a-stylized-example\" data-toc-modified-id=\"Let's-consider-a-stylized-example-19\">Let's consider a stylized example</a></span></li><li><span><a href=\"#Stylized-example:-network-containing-friendship-and-affiliation-ties\" data-toc-modified-id=\"Stylized-example:-network-containing-friendship-and-affiliation-ties-20\">Stylized example: network containing friendship and affiliation ties</a></span></li><li><span><a href=\"#Different-forms-of-closure-in-social-and-affiliation-networks\" data-toc-modified-id=\"Different-forms-of-closure-in-social-and-affiliation-networks-21\">Different forms of closure in social and affiliation networks</a></span></li><li><span><a href=\"#Stylized-example:-Emerging-Ties\" data-toc-modified-id=\"Stylized-example:-Emerging-Ties-22\">Stylized example: Emerging Ties</a></span></li><li><span><a href=\"#Tracking-link-formation-in-online-data\" data-toc-modified-id=\"Tracking-link-formation-in-online-data-23\">Tracking link formation in online data</a></span></li><li><span><a href=\"#Evaluating-closure-―-Kossinets-&amp;-Watts'-procedure\" data-toc-modified-id=\"Evaluating-closure-―-Kossinets-&amp;-Watts'-procedure-24\">Evaluating closure ― Kossinets &amp; Watts' procedure</a></span></li><li><span><a href=\"#Triadic-closure-in-an-email-exchange-network\" data-toc-modified-id=\"Triadic-closure-in-an-email-exchange-network-25\">Triadic closure in an email exchange network</a></span></li><li><span><a href=\"#Focal-closure-in-an-email-exchange---class-participation-network\" data-toc-modified-id=\"Focal-closure-in-an-email-exchange---class-participation-network-26\">Focal closure in an email exchange - class participation network</a></span></li><li><span><a href=\"#Membership-closure-in-a-followership---blog-network\" data-toc-modified-id=\"Membership-closure-in-a-followership---blog-network-27\">Membership closure in a followership - blog network</a></span></li><li><span><a href=\"#Analytical-strategy-to-disentangle-selection-and-socialization\" data-toc-modified-id=\"Analytical-strategy-to-disentangle-selection-and-socialization-28\">Analytical strategy to disentangle selection and socialization</a></span></li></ul></div>"
   ]
  },
  {
   "cell_type": "markdown",
   "metadata": {
    "slideshow": {
     "slide_type": "slide"
    }
   },
   "source": [
    "# Network analytics ― week 4\n",
    "\n",
    "<img src=\"images/birds_of_a_feather.jpeg\" alt=\"Drawing\" style=\"width: 400px;\"/>"
   ]
  },
  {
   "cell_type": "markdown",
   "metadata": {
    "slideshow": {
     "slide_type": "slide"
    }
   },
   "source": [
    "# Agenda\n",
    "\n",
    "- homophily\n",
    "- selection, social influence, and network dynamics"
   ]
  },
  {
   "cell_type": "markdown",
   "metadata": {
    "slideshow": {
     "slide_type": "slide"
    }
   },
   "source": [
    "# Why do networks look how they look?"
   ]
  },
  {
   "cell_type": "markdown",
   "metadata": {
    "slideshow": {
     "slide_type": "subslide"
    }
   },
   "source": [
    "# Homophily"
   ]
  },
  {
   "cell_type": "markdown",
   "metadata": {
    "slideshow": {
     "slide_type": "fragment"
    }
   },
   "source": [
    "* Similarity breeds connection"
   ]
  },
  {
   "cell_type": "markdown",
   "metadata": {
    "slideshow": {
     "slide_type": "fragment"
    }
   },
   "source": [
    "* Hence, networks are homogeneous with regard to:\n",
    "  - sociodemographic variables (e.g., age)\n",
    "  - reference social categories (e.g., being a knowledge worker)\n",
    "  - behaviors (e.g., purchasing choices)"
   ]
  },
  {
   "cell_type": "markdown",
   "metadata": {
    "slideshow": {
     "slide_type": "subslide"
    }
   },
   "source": [
    "# Theory background\n",
    "\n",
    "<img src=\"images/mcpherson_et_al.png\" alt=\"Drawing\" style=\"width: 600px;\"/>"
   ]
  },
  {
   "cell_type": "markdown",
   "metadata": {
    "slideshow": {
     "slide_type": "subslide"
    }
   },
   "source": [
    "# Example: Friendship network in a high-school\n",
    "\n",
    "<img src=\"images/moody_2001.png\" alt=\"Drawing\" style=\"width: 800px;\"/>\n",
    "Source: Moody, James. \"Race, school integration, and friendship segregation in America.\" American Journal of Sociology 107, no. 3 (2001): 679-716."
   ]
  },
  {
   "cell_type": "markdown",
   "metadata": {
    "slideshow": {
     "slide_type": "subslide"
    }
   },
   "source": [
    "# Example: Romantic relationship"
   ]
  },
  {
   "cell_type": "markdown",
   "metadata": {
    "cell_style": "split",
    "slideshow": {
     "slide_type": "fragment"
    }
   },
   "source": [
    "<img src=\"images/romantic_relation.jpg\" alt=\"Drawing\" style=\"width: 500px;\"/>"
   ]
  },
  {
   "cell_type": "markdown",
   "metadata": {
    "cell_style": "split",
    "slideshow": {
     "slide_type": "fragment"
    }
   },
   "source": [
    "<img src=\"images/mcfarland_et_al.png\" alt=\"Drawing\" style=\"width: 500px;\"/>"
   ]
  },
  {
   "cell_type": "markdown",
   "metadata": {
    "slideshow": {
     "slide_type": "subslide"
    }
   },
   "source": [
    "# Example: Managerial networks\n",
    "\n",
    "![](images/mcdonald_westphal.png)\n",
    "\n",
    "Source: Administrative Science Quarterly, 48 (2003): 1 - 32"
   ]
  },
  {
   "cell_type": "markdown",
   "metadata": {
    "slideshow": {
     "slide_type": "slide"
    }
   },
   "source": [
    "# When does a network reflect homophily?\n",
    "\n",
    "![](images/fig_4_2.png)\n",
    "\n",
    "Notes: nodes are color-coded with respect to a key relevant attribute (e.g., gender)"
   ]
  },
  {
   "cell_type": "markdown",
   "metadata": {
    "slideshow": {
     "slide_type": "subslide"
    }
   },
   "source": [
    "# Measures of homophily"
   ]
  },
  {
   "cell_type": "markdown",
   "metadata": {
    "cell_style": "split",
    "slideshow": {
     "slide_type": "fragment"
    }
   },
   "source": [
    "**Network measure**\n",
    "\n",
    "<img src=\"images/newman_2003.png\" alt=\"Drawing\" style=\"width: 500px;\"/>\n",
    "\n",
    "Reference: Newman, Mark EJ. \"Mixing patterns in networks.\" Physical Review E 67, no. 2 (2003): 026126."
   ]
  },
  {
   "cell_type": "markdown",
   "metadata": {
    "cell_style": "split",
    "slideshow": {
     "slide_type": "fragment"
    }
   },
   "source": [
    "**Dyadic measure**\n",
    "\n",
    "<img src=\"images/ertug_et_al_2018.png\" alt=\"Drawing\" style=\"width: 500px;\"/>\n",
    "\n",
    "Reference: Ertug, Gokhan, Martin Gargiulo, Charles Galunic, and Tengjian Zou. \"Homophily and Individual Performance.\" Organization Science (2018)."
   ]
  },
  {
   "cell_type": "markdown",
   "metadata": {
    "slideshow": {
     "slide_type": "subslide"
    }
   },
   "source": [
    "# Let's focus on the network-level measure of homophily"
   ]
  },
  {
   "cell_type": "markdown",
   "metadata": {
    "slideshow": {
     "slide_type": "subslide"
    }
   },
   "source": [
    "# Intuition"
   ]
  },
  {
   "cell_type": "markdown",
   "metadata": {
    "slideshow": {
     "slide_type": "fragment"
    }
   },
   "source": [
    "- Considering gender as the key feature of nodes, what would it mean for a network not to exhibit homophily?"
   ]
  },
  {
   "cell_type": "markdown",
   "metadata": {
    "slideshow": {
     "slide_type": "fragment"
    }
   },
   "source": [
    "- The proportion of male and female friends that a person has resembles the underlying male/female distribution in the full population"
   ]
  },
  {
   "cell_type": "markdown",
   "metadata": {
    "slideshow": {
     "slide_type": "fragment"
    }
   },
   "source": [
    "- In other words, \"if we were to randomly assign each node a gender according the gender balance in the real network, then the number of cross-gender edges should not change significantly relatively to what is seen in the real network\"\n",
    "\n",
    "Source: Networks, Crowds and Markets (page 80)"
   ]
  },
  {
   "cell_type": "markdown",
   "metadata": {
    "slideshow": {
     "slide_type": "subslide"
    }
   },
   "source": [
    "# Mathematical representation"
   ]
  },
  {
   "cell_type": "markdown",
   "metadata": {
    "slideshow": {
     "slide_type": "fragment"
    }
   },
   "source": [
    "Let's consider a network containing a fraction $p$ of male nodes ($m$) and a fraction $q$ of female nodes ($f$), and denote the link between nodes $i$ and $j$ as $e_{i,j}$. The no-homophily hypothesis implies what follows:"
   ]
  },
  {
   "cell_type": "markdown",
   "metadata": {
    "slideshow": {
     "slide_type": "fragment"
    }
   },
   "source": [
    "- $pr(e_{ij} \\ | \\ i = m, \\ j = m) = p * p$"
   ]
  },
  {
   "cell_type": "markdown",
   "metadata": {
    "slideshow": {
     "slide_type": "fragment"
    }
   },
   "source": [
    "- $pr(e_{ij} \\ | \\ i = f, \\ j = f) = q * q$"
   ]
  },
  {
   "cell_type": "markdown",
   "metadata": {
    "slideshow": {
     "slide_type": "fragment"
    }
   },
   "source": [
    "- $pr(e_{ij} \\ | \\ i = m, \\ j = f) = p * q$"
   ]
  },
  {
   "cell_type": "markdown",
   "metadata": {
    "slideshow": {
     "slide_type": "fragment"
    }
   },
   "source": [
    "- $pr(e_{ij} \\ | \\ i = f, \\ j = m) = q * p$"
   ]
  },
  {
   "cell_type": "markdown",
   "metadata": {
    "slideshow": {
     "slide_type": "fragment"
    }
   },
   "source": [
    "If the proportion of male-female ties deviates from $2*(p*q)$, then there is evidence of homophily in the network."
   ]
  },
  {
   "cell_type": "markdown",
   "metadata": {
    "slideshow": {
     "slide_type": "slide"
    }
   },
   "source": [
    "# Mechanisms underlying homophily"
   ]
  },
  {
   "cell_type": "markdown",
   "metadata": {
    "slideshow": {
     "slide_type": "fragment"
    }
   },
   "source": [
    "There are two mechanisms through which homophily affects tie formation:"
   ]
  },
  {
   "cell_type": "markdown",
   "metadata": {
    "slideshow": {
     "slide_type": "fragment"
    }
   },
   "source": [
    "- Selection: individual bond with others they perceive 'similar' on salient dimensions"
   ]
  },
  {
   "cell_type": "markdown",
   "metadata": {
    "slideshow": {
     "slide_type": "fragment"
    }
   },
   "source": [
    "- Socialization: individuals that directly, closely, frequently interact with each other become more and more 'similar'"
   ]
  },
  {
   "cell_type": "markdown",
   "metadata": {
    "slideshow": {
     "slide_type": "fragment"
    }
   },
   "source": [
    "Note: The relative strength of 'selection' and 'socialization' largely depends on the attributes individuals use to assess inter-personal similarity. Socialization does not operate for fixed demographics factors, whereas it plays a central role when attitudes or behavior are used to appreciate similarity."
   ]
  },
  {
   "cell_type": "markdown",
   "metadata": {
    "slideshow": {
     "slide_type": "subslide"
    }
   },
   "source": [
    "# The interplay between selection and socialization: Example"
   ]
  },
  {
   "cell_type": "markdown",
   "metadata": {
    "cell_style": "split",
    "slideshow": {
     "slide_type": "fragment"
    }
   },
   "source": [
    "<img src=\"images/christakis_fowler.png\" alt=\"Drawing\" style=\"width: 600px;\"/>\n",
    "Source: Christakis, Nicholas A., and James H. Fowler. \"The spread of obesity in a large social network over 32 years.\" New England journal of medicine 357, no. 4 (2007): 370-379."
   ]
  },
  {
   "cell_type": "markdown",
   "metadata": {
    "cell_style": "split",
    "slideshow": {
     "slide_type": "fragment"
    }
   },
   "source": [
    "Christakis and Fowler use longitudinal data, covering roughly 12,000 people, to track obesity status and social network structure over a 32-year period.\n",
    "\n",
    "They found that:\n",
    "\n",
    "- obese and non-obese people clustered in the network in a fashion consistent with homophily\n",
    "- people tend to be more similar in obesity status to their network neighbors than in a version of the same network where obesity status is assigned randomly"
   ]
  },
  {
   "cell_type": "markdown",
   "metadata": {
    "slideshow": {
     "slide_type": "subslide"
    }
   },
   "source": [
    "# Example (cont'd)\n",
    "\n",
    "Can we explain the clustering phenomenon described by Christakis and Fowler?"
   ]
  },
  {
   "cell_type": "markdown",
   "metadata": {
    "slideshow": {
     "slide_type": "fragment"
    }
   },
   "source": [
    "1) is it because of selection effects, in which people are choosing to form friendships with others of similar obesity status?"
   ]
  },
  {
   "cell_type": "markdown",
   "metadata": {
    "slideshow": {
     "slide_type": "fragment"
    }
   },
   "source": [
    "2) is it because of the confounding effects of homophily according to other characteristics, in which the network structure indicates existing patterns of similarity in other dimensions that correlate with obesity status?"
   ]
  },
  {
   "cell_type": "markdown",
   "metadata": {
    "slideshow": {
     "slide_type": "fragment"
    }
   },
   "source": [
    "3) is it because changes in the obesity status of a person's friends was exerting a (presumably behavioral) influence that affected his or her future obesity status?"
   ]
  },
  {
   "cell_type": "markdown",
   "metadata": {
    "slideshow": {
     "slide_type": "fragment"
    }
   },
   "source": [
    "Statistical analysis in Christakis and Fowler's paper argues that, even accounting for effects of\n",
    "types 1) and 2), there is significant evidence for an effect of type 3) as well: that obesity is\n",
    "a health condition displaying a form of social influence, with changes in your friends' obesity\n",
    "status in turn having a subsequent effect on you"
   ]
  },
  {
   "cell_type": "markdown",
   "metadata": {
    "slideshow": {
     "slide_type": "slide"
    }
   },
   "source": [
    "# How do social and affiliation networks co-evolve?"
   ]
  },
  {
   "cell_type": "markdown",
   "metadata": {
    "slideshow": {
     "slide_type": "subslide"
    }
   },
   "source": [
    "\n",
    "# How do homophily mechanisms matter in this context?"
   ]
  },
  {
   "cell_type": "markdown",
   "metadata": {
    "slideshow": {
     "slide_type": "subslide"
    }
   },
   "source": [
    "# Let's consider a stylized example"
   ]
  },
  {
   "cell_type": "markdown",
   "metadata": {
    "slideshow": {
     "slide_type": "subslide"
    }
   },
   "source": [
    "# Stylized example: network containing friendship and affiliation ties\n",
    "\n",
    "<img src=\"images/foci_friendship.png\" alt=\"Drawing\" style=\"width: 1000px;\"/>\n",
    "\n",
    "Source: Networks, Crowds and Markets (page 86)"
   ]
  },
  {
   "cell_type": "markdown",
   "metadata": {
    "slideshow": {
     "slide_type": "subslide"
    }
   },
   "source": [
    "# Different forms of closure in social and affiliation networks\n",
    "\n",
    "<img src=\"images/closure_forms.png\" alt=\"Drawing\" style=\"width: 1200px;\"/>\n",
    "\n",
    "Source: Networks, Crowds and Markets (page 86)"
   ]
  },
  {
   "cell_type": "markdown",
   "metadata": {
    "slideshow": {
     "slide_type": "subslide"
    }
   },
   "source": [
    "# Stylized example: Emerging Ties"
   ]
  },
  {
   "cell_type": "markdown",
   "metadata": {
    "cell_style": "split",
    "slideshow": {
     "slide_type": "fragment"
    }
   },
   "source": [
    "![](images/selection_socialization.png)\n",
    "\n",
    "Notes: In a social-affiliation network containing both people and foci, edges can form under the effect of several different kinds of closure processes: two people with a friend in common, two people with a focus in common, or a person joining a focus that a friend is already involved in.\n",
    "\n",
    "Source: Networks, Crowds and Markets (page 88)"
   ]
  },
  {
   "cell_type": "markdown",
   "metadata": {
    "cell_style": "split",
    "slideshow": {
     "slide_type": "fragment"
    }
   },
   "source": [
    "Tie formation events:\n",
    "\n",
    "1. Bob introduces Anna to Claire.\n",
    "2. Karate introduces Anna to Daniel.\n",
    "3. Anna introduces Bob to Karate"
   ]
  },
  {
   "cell_type": "markdown",
   "metadata": {
    "slideshow": {
     "slide_type": "subslide"
    }
   },
   "source": [
    "# Tracking link formation in online data\n",
    "\n",
    "Three examples:\n",
    "\n",
    "* triadic closure in information networks\n",
    "* focal closure in affiliation networks\n",
    "* membership closure in affiliation networks"
   ]
  },
  {
   "cell_type": "markdown",
   "metadata": {
    "slideshow": {
     "slide_type": "subslide"
    }
   },
   "source": [
    "# Evaluating closure ― Kossinets & Watts' procedure\n",
    "\n",
    "We can address these questions empirically using network data as follows:\n",
    "\n",
    "- We take two snapshots of the network at different times.\n",
    "- For each $k$, we identify all pairs of nodes who have exactly $k$ friends in common in the first snapshot, but who are not directly connected by an edge\n",
    "- We define $T(k)$ to be the fraction of these pairs that have formed an edge by the time of the second snapshot. This is our empirical estimate for the probability that a link will form between two people with $k$ friends in common.\n",
    "- We plot $T(k)$ as a function of $k$ to illustrate the effect of common friends on the formation of links."
   ]
  },
  {
   "cell_type": "markdown",
   "metadata": {
    "slideshow": {
     "slide_type": "subslide"
    }
   },
   "source": [
    "# Triadic closure in an email exchange network\n",
    "\n",
    "![](images/triadic_closure.png)\n",
    "\n",
    "Source: Kossinets & Watts 2009"
   ]
  },
  {
   "cell_type": "markdown",
   "metadata": {
    "slideshow": {
     "slide_type": "subslide"
    }
   },
   "source": [
    "# Focal closure in an email exchange - class participation network\n",
    "\n",
    "![](images/focal_closure.png)\n",
    "\n",
    "Source: Kossinets & Watts 2009"
   ]
  },
  {
   "cell_type": "markdown",
   "metadata": {
    "slideshow": {
     "slide_type": "subslide"
    }
   },
   "source": [
    "# Membership closure in a followership - blog network\n",
    "\n",
    "![](images/membership_closure.png)\n",
    "\n",
    "Source: Backstrom et al. 2006"
   ]
  },
  {
   "cell_type": "markdown",
   "metadata": {
    "slideshow": {
     "slide_type": "subslide"
    }
   },
   "source": [
    "# Analytical strategy to disentangle selection and socialization\n",
    "\n",
    "![](images/selection_and_socialization.png)\n",
    "\n",
    "Source: Crandall et al. 2008"
   ]
  }
 ],
 "metadata": {
  "celltoolbar": "Slideshow",
  "hide_input": false,
  "kernelspec": {
   "display_name": "Python 3",
   "language": "python",
   "name": "python3"
  },
  "language_info": {
   "codemirror_mode": {
    "name": "ipython",
    "version": 3
   },
   "file_extension": ".py",
   "mimetype": "text/x-python",
   "name": "python",
   "nbconvert_exporter": "python",
   "pygments_lexer": "ipython3",
   "version": "3.8.5"
  },
  "latex_envs": {
   "LaTeX_envs_menu_present": true,
   "autoclose": false,
   "autocomplete": true,
   "bibliofile": "biblio.bib",
   "cite_by": "apalike",
   "current_citInitial": 1,
   "eqLabelWithNumbers": true,
   "eqNumInitial": 1,
   "hotkeys": {
    "equation": "Ctrl-E",
    "itemize": "Ctrl-I"
   },
   "labels_anchors": false,
   "latex_user_defs": false,
   "report_style_numbering": false,
   "user_envs_cfg": false
  },
  "nbTranslate": {
   "displayLangs": [
    "*"
   ],
   "hotkey": "alt-t",
   "langInMainMenu": true,
   "sourceLang": "en",
   "targetLang": "fr",
   "useGoogleTranslate": true
  },
  "rise": {
   "enable_chalkboard": true
  },
  "toc": {
   "base_numbering": 1,
   "nav_menu": {},
   "number_sections": false,
   "sideBar": true,
   "skip_h1_title": false,
   "title_cell": "Table of Contents",
   "title_sidebar": "Contents",
   "toc_cell": true,
   "toc_position": {},
   "toc_section_display": true,
   "toc_window_display": false
  },
  "varInspector": {
   "cols": {
    "lenName": 16,
    "lenType": 16,
    "lenVar": 40
   },
   "kernels_config": {
    "python": {
     "delete_cmd_postfix": "",
     "delete_cmd_prefix": "del ",
     "library": "var_list.py",
     "varRefreshCmd": "print(var_dic_list())"
    },
    "r": {
     "delete_cmd_postfix": ") ",
     "delete_cmd_prefix": "rm(",
     "library": "var_list.r",
     "varRefreshCmd": "cat(var_dic_list()) "
    }
   },
   "types_to_exclude": [
    "module",
    "function",
    "builtin_function_or_method",
    "instance",
    "_Feature"
   ],
   "window_display": false
  }
 },
 "nbformat": 4,
 "nbformat_minor": 4
}
