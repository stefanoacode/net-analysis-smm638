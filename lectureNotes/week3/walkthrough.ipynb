{
 "cells": [
  {
   "cell_type": "markdown",
   "metadata": {
    "nteract": {
     "transient": {
      "deleting": false
     }
    },
    "slideshow": {
     "slide_type": "slide"
    }
   },
   "source": [
    "# Network analytics ― week 3 webinar\n",
    "\n",
    "<img src=\"images/Figure3.png\" alt=\"Drawing\" style=\"width: 800px;\"/>"
   ]
  },
  {
   "cell_type": "markdown",
   "metadata": {
    "nteract": {
     "transient": {
      "deleting": false
     }
    },
    "slideshow": {
     "slide_type": "slide"
    }
   },
   "source": [
    "# Agenda\n",
    "\n",
    "- Basics of network communities\n",
    "- Popular approaches to the community detection problem"
   ]
  },
  {
   "cell_type": "markdown",
   "metadata": {
    "nteract": {
     "transient": {
      "deleting": false
     }
    },
    "slideshow": {
     "slide_type": "subslide"
    }
   },
   "source": [
    "# Definition of community\n",
    "\n",
    "In network science we call a community a group of nodes that have a higher likelihood of connecting to each other than to nodes from other communities."
   ]
  },
  {
   "cell_type": "markdown",
   "metadata": {
    "nteract": {
     "transient": {
      "deleting": false
     }
    },
    "slideshow": {
     "slide_type": "subslide"
    }
   },
   "source": [
    "# Example of community: Zachary's karate club study"
   ]
  },
  {
   "cell_type": "markdown",
   "metadata": {
    "cell_style": "split",
    "slideshow": {
     "slide_type": "fragment"
    }
   },
   "source": [
    "<img src=\"images/figure-9-2.jpg\" alt=\"Drawing\" style=\"width: 800px;\"/>"
   ]
  },
  {
   "cell_type": "markdown",
   "metadata": {
    "cell_style": "split",
    "nteract": {
     "transient": {
      "deleting": false
     }
    },
    "slideshow": {
     "slide_type": "fragment"
    }
   },
   "source": [
    "- N = 34\n",
    "- 78 pairwise links between members who regularly interacted outside the club\n",
    "- the conflict between the club's president and the instructor split the club into two."
   ]
  },
  {
   "cell_type": "markdown",
   "metadata": {
    "nteract": {
     "transient": {
      "deleting": false
     }
    },
    "slideshow": {
     "slide_type": "subslide"
    }
   },
   "source": [
    "# Basics of Communities\n",
    "\n",
    "- what do we really mean by a community?\n",
    "- how many communities are in a network? \n",
    "- how many different ways can we partition a network into communities?"
   ]
  },
  {
   "cell_type": "markdown",
   "metadata": {
    "nteract": {
     "transient": {
      "deleting": false
     }
    },
    "slideshow": {
     "slide_type": "subslide"
    }
   },
   "source": [
    "# Key structural properties of communities"
   ]
  },
  {
   "cell_type": "markdown",
   "metadata": {
    "cell_style": "split",
    "nteract": {
     "transient": {
      "deleting": false
     }
    },
    "slideshow": {
     "slide_type": "fragment"
    }
   },
   "source": [
    "<img src=\"images/figure-9-4.jpg\" alt=\"Drawing\" style=\"width: 800px;\"/>"
   ]
  },
  {
   "cell_type": "markdown",
   "metadata": {
    "cell_style": "split",
    "nteract": {
     "transient": {
      "deleting": false
     }
    },
    "slideshow": {
     "slide_type": "fragment"
    }
   },
   "source": [
    "- **Connectedness:** Each community corresponds to a connected subgraph\n",
    "\n",
    "- **Density Hypothesis**: Nodes in a community are more likely to connect to other members of the same community than to nodes in other communities"
   ]
  },
  {
   "cell_type": "markdown",
   "metadata": {
    "nteract": {
     "transient": {
      "deleting": false
     }
    },
    "slideshow": {
     "slide_type": "subslide"
    }
   },
   "source": [
    "# Forms of communities\n",
    "\n",
    "**Strong community:** $C$ is a **strong community** if each node within C has more links within the community than with the rest of the graph. Specifically, a subgraph C forms a strong community if for each node $i$ $\\in$ $C$\n",
    "\n",
    "\\begin{equation}\n",
    "k_{int}^{i}(C) > k_{ext}{i}(C)\n",
    "\\end{equation}\n",
    "\n",
    "**Weak Community:** C is a weak community if the total internal degree of a subgraph exceeds its total external degree. Specifically, a subgraph C forms a weak community if\n",
    "\n",
    "\\begin{equation}\n",
    "\\sum_{i \\in C} k_{int}^{i}(C) > \\sum_{i \\in C} k_{ext}^{i}(C)\n",
    "\\end{equation}"
   ]
  },
  {
   "cell_type": "markdown",
   "metadata": {
    "nteract": {
     "transient": {
      "deleting": false
     }
    },
    "slideshow": {
     "slide_type": "subslide"
    }
   },
   "source": [
    "# Forms of communities, example\n",
    "\n",
    "![](images/figure-9-5.jpg)\n",
    "\n",
    "---\n",
    "**Notes:** a) clique; b) strong community; c) weak community. "
   ]
  },
  {
   "cell_type": "markdown",
   "metadata": {
    "nteract": {
     "transient": {
      "deleting": false
     }
    },
    "slideshow": {
     "slide_type": "slide"
    }
   },
   "source": [
    "# How do we identifiy communities in networks?"
   ]
  },
  {
   "cell_type": "markdown",
   "metadata": {
    "nteract": {
     "transient": {
      "deleting": false
     }
    },
    "slideshow": {
     "slide_type": "fragment"
    }
   },
   "source": [
    "- agglomerative procedure (hierarchical clustering)\n",
    "- divisive procedure"
   ]
  },
  {
   "cell_type": "markdown",
   "metadata": {
    "nteract": {
     "transient": {
      "deleting": false
     }
    },
    "slideshow": {
     "slide_type": "subslide"
    }
   },
   "source": [
    "# Ravasz agglomerative procedure"
   ]
  },
  {
   "cell_type": "markdown",
   "metadata": {
    "nteract": {
     "transient": {
      "deleting": false
     }
    },
    "slideshow": {
     "slide_type": "fragment"
    }
   },
   "source": [
    "- **step 1:** define the similarity matrix<sup>[1]</sup>\n",
    "- **step 2:** decide group similarity\n",
    "- **step 3:** apply hierarchical clustering\n",
    "- **step 4:** make dendrogram\n",
    "- **setp 5:** cut-off\n",
    "\n",
    "---\n",
    "[1] \\begin{equation}\n",
    "x_{ij}^{0} = \\frac{J(i, j)}{min(k_{i}, k_{j}) + 1 - \\phi{A_{ij}}}\n",
    "\\end{equation}"
   ]
  },
  {
   "cell_type": "markdown",
   "metadata": {
    "nteract": {
     "transient": {
      "deleting": false
     }
    },
    "slideshow": {
     "slide_type": "fragment"
    }
   },
   "source": [
    "![](images/figure-9-9.jpg)"
   ]
  },
  {
   "cell_type": "markdown",
   "metadata": {
    "nteract": {
     "transient": {
      "deleting": false
     }
    },
    "slideshow": {
     "slide_type": "subslide"
    }
   },
   "source": [
    "# Girvan-Newman divisive procedure"
   ]
  },
  {
   "cell_type": "markdown",
   "metadata": {
    "nteract": {
     "transient": {
      "deleting": false
     }
    },
    "slideshow": {
     "slide_type": "subslide"
    }
   },
   "source": [
    "- **step 1:** compute the centrality $x_{ij}$ of each link.\n",
    "- **step 2:** remove the link with the largest centrality\n",
    "- **step 3:** recalculate the centrality of each link for the altered network.\n",
    "- **step 4:** iterate over steps 2 and 3 until all links are removed.\n",
    "\n",
    "---\n",
    "Notes: a good candidate of centrality is 'link betweenness', which captures the role of each link in information transfer. Hence $x_{ij}$ is proportional to the number of shortest paths between all node pairs that run along the link $(i,j)$."
   ]
  },
  {
   "cell_type": "markdown",
   "metadata": {
    "nteract": {
     "transient": {
      "deleting": false
     }
    },
    "slideshow": {
     "slide_type": "fragment"
    }
   },
   "source": [
    "`![](images/figure-9-12.jpg)\n",
    "\n",
    "---\n",
    "Notes: f) illustrates the modularity function ― stop deleting edges when $n = n^{*}$"
   ]
  }
 ],
 "metadata": {
  "celltoolbar": "Slideshow",
  "hide_input": false,
  "kernelspec": {
   "display_name": "Python 3 (ipykernel)",
   "language": "python",
   "name": "python3"
  },
  "language_info": {
   "codemirror_mode": {
    "name": "ipython",
    "version": 3
   },
   "file_extension": ".py",
   "mimetype": "text/x-python",
   "name": "python",
   "nbconvert_exporter": "python",
   "pygments_lexer": "ipython3",
   "version": "3.9.7"
  },
  "latex_envs": {
   "LaTeX_envs_menu_present": true,
   "autoclose": false,
   "autocomplete": true,
   "bibliofile": "biblio.bib",
   "cite_by": "apalike",
   "current_citInitial": 1,
   "eqLabelWithNumbers": true,
   "eqNumInitial": 1,
   "hotkeys": {
    "equation": "Ctrl-E",
    "itemize": "Ctrl-I"
   },
   "labels_anchors": false,
   "latex_user_defs": false,
   "report_style_numbering": false,
   "user_envs_cfg": false
  },
  "nbTranslate": {
   "displayLangs": [
    "*"
   ],
   "hotkey": "alt-t",
   "langInMainMenu": true,
   "sourceLang": "en",
   "targetLang": "fr",
   "useGoogleTranslate": true
  },
  "toc": {
   "base_numbering": 1,
   "nav_menu": {},
   "number_sections": false,
   "sideBar": true,
   "skip_h1_title": false,
   "title_cell": "Table of Contents",
   "title_sidebar": "Contents",
   "toc_cell": false,
   "toc_position": {
    "height": "calc(100% - 180px)",
    "left": "10px",
    "top": "150px",
    "width": "298.188px"
   },
   "toc_section_display": true,
   "toc_window_display": false
  },
  "varInspector": {
   "cols": {
    "lenName": 16,
    "lenType": 16,
    "lenVar": 40
   },
   "kernels_config": {
    "python": {
     "delete_cmd_postfix": "",
     "delete_cmd_prefix": "del ",
     "library": "var_list.py",
     "varRefreshCmd": "print(var_dic_list())"
    },
    "r": {
     "delete_cmd_postfix": ") ",
     "delete_cmd_prefix": "rm(",
     "library": "var_list.r",
     "varRefreshCmd": "cat(var_dic_list()) "
    }
   },
   "types_to_exclude": [
    "module",
    "function",
    "builtin_function_or_method",
    "instance",
    "_Feature"
   ],
   "window_display": false
  }
 },
 "nbformat": 4,
 "nbformat_minor": 1
}
