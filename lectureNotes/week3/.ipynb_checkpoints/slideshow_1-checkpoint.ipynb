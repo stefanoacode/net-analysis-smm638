{
 "cells": [
  {
   "cell_type": "markdown",
   "metadata": {
    "toc": true
   },
   "source": [
    "<h1>Table of Contents<span class=\"tocSkip\"></span></h1>\n",
    "<div class=\"toc\"><ul class=\"toc-item\"><li><span><a href=\"#Network-analytics-―-week-3\" data-toc-modified-id=\"Network-analytics-―-week-3-1\">Network analytics ― week 3</a></span></li><li><span><a href=\"#Agenda\" data-toc-modified-id=\"Agenda-2\">Agenda</a></span></li><li><span><a href=\"#Small-world-network-and-6-degree-of-separation\" data-toc-modified-id=\"Small-world-network-and-6-degree-of-separation-3\">Small-world network and 6 degree of separation</a></span></li><li><span><a href=\"#Paths-and-distances\" data-toc-modified-id=\"Paths-and-distances-4\">Paths and distances</a></span></li><li><span><a href=\"#Milgram's-experiment\" data-toc-modified-id=\"Milgram's-experiment-5\">Milgram's experiment</a></span></li><li><span><a href=\"#Let's-further-elaborate-on-this-idea-of-'reaching-socially-distant-others'...\" data-toc-modified-id=\"Let's-further-elaborate-on-this-idea-of-'reaching-socially-distant-others'...-6\">Let's further elaborate on this idea of 'reaching socially distant others'...</a></span></li><li><span><a href=\"#Average-path-length\" data-toc-modified-id=\"Average-path-length-7\">Average path length</a></span></li><li><span><a href=\"#Connectedness\" data-toc-modified-id=\"Connectedness-8\">Connectedness</a></span></li><li><span><a href=\"#Let's-go-back-to-Milgram's-experiment\" data-toc-modified-id=\"Let's-go-back-to-Milgram's-experiment-9\">Let's go back to Milgram's experiment</a></span></li><li><span><a href=\"#How-difficult/costly-is-exploiting-'short-paths',-part-I\" data-toc-modified-id=\"How-difficult/costly-is-exploiting-'short-paths',-part-I-10\">How difficult/costly is exploiting 'short paths', part I</a></span></li><li><span><a href=\"#How-difficult/costly-is-exploiting-'short-paths',-part-II\" data-toc-modified-id=\"How-difficult/costly-is-exploiting-'short-paths',-part-II-11\">How difficult/costly is exploiting 'short paths', part II</a></span></li><li><span><a href=\"#Cumulative-advantage-of-core-nodes\" data-toc-modified-id=\"Cumulative-advantage-of-core-nodes-12\">Cumulative advantage of core nodes</a></span></li><li><span><a href=\"#Cumulative-advantage-of-core-nodes:-An-example\" data-toc-modified-id=\"Cumulative-advantage-of-core-nodes:-An-example-13\">Cumulative advantage of core nodes: An example</a></span></li><li><span><a href=\"#Is-there-any-hope-for-peripheral-nodes-to-improve-their-position?\" data-toc-modified-id=\"Is-there-any-hope-for-peripheral-nodes-to-improve-their-position?-14\">Is there any hope for peripheral nodes to improve their position?</a></span></li><li><span><a href=\"#How-do-we-identify-core-periphery-structures?\" data-toc-modified-id=\"How-do-we-identify-core-periphery-structures?-15\">How do we identify core-periphery structures?</a></span></li><li><span><a href=\"#Let's-go-back-to-the-properties-of-small-worlds\" data-toc-modified-id=\"Let's-go-back-to-the-properties-of-small-worlds-16\">Let's go back to the properties of small-worlds</a></span></li><li><span><a href=\"#Can-we-make-up-a-simple-model-that-exhibits-clustering-but--also--very--short--paths?\" data-toc-modified-id=\"Can-we-make-up-a-simple-model-that-exhibits-clustering-but--also--very--short--paths?-17\">Can we make up a simple model that exhibits clustering but  also  very  short  paths?</a></span></li><li><span><a href=\"#Clustering\" data-toc-modified-id=\"Clustering-18\">Clustering</a></span></li><li><span><a href=\"#Small-world-network-modeling:-The-Watts-Strogatz-model\" data-toc-modified-id=\"Small-world-network-modeling:-The-Watts-Strogatz-model-19\">Small-world network modeling: The Watts-Strogatz model</a></span></li><li><span><a href=\"#The-intuition-behind-the-Watts-Strogatz-model\" data-toc-modified-id=\"The-intuition-behind-the-Watts-Strogatz-model-20\">The intuition behind the Watts-Strogatz model</a></span></li><li><span><a href=\"#Business-case-discussion\" data-toc-modified-id=\"Business-case-discussion-21\">Business case discussion</a></span><ul class=\"toc-item\"><li><span><a href=\"#How-do-small-world-networks-impact-the-organization-and-functioning-of-the-Soundcloud-platform?\" data-toc-modified-id=\"How-do-small-world-networks-impact-the-organization-and-functioning-of-the-Soundcloud-platform?-21.1\">How do small world networks impact the organization and functioning of the <strong>Soundcloud</strong> platform?</a></span></li></ul></li><li><span><a href=\"#Communities-in-networks\" data-toc-modified-id=\"Communities-in-networks-22\">Communities in networks</a></span></li><li><span><a href=\"#The-case-of-Belgium:-Stylized-observations\" data-toc-modified-id=\"The-case-of-Belgium:-Stylized-observations-23\">The case of Belgium: Stylized observations</a></span></li><li><span><a href=\"#Evidence-from-a-phone-call-pattern-study\" data-toc-modified-id=\"Evidence-from-a-phone-call-pattern-study-24\">Evidence from a phone call pattern study</a></span></li><li><span><a href=\"#Definition-of-community\" data-toc-modified-id=\"Definition-of-community-25\">Definition of community</a></span></li><li><span><a href=\"#Example-of-community:-Zachary's-karate-club-study\" data-toc-modified-id=\"Example-of-community:-Zachary's-karate-club-study-26\">Example of community: Zachary's karate club study</a></span></li><li><span><a href=\"#Basics-of-Communities\" data-toc-modified-id=\"Basics-of-Communities-27\">Basics of Communities</a></span></li><li><span><a href=\"#Key-structural-properties-of-communities\" data-toc-modified-id=\"Key-structural-properties-of-communities-28\">Key structural properties of communities</a></span></li><li><span><a href=\"#Forms-of-communities\" data-toc-modified-id=\"Forms-of-communities-29\">Forms of communities</a></span></li><li><span><a href=\"#Forms-of-communities,-example\" data-toc-modified-id=\"Forms-of-communities,-example-30\">Forms of communities, example</a></span></li><li><span><a href=\"#How-do-we-identifiy-communities-in-networks?\" data-toc-modified-id=\"How-do-we-identifiy-communities-in-networks?-31\">How do we identifiy communities in networks?</a></span></li></ul></div>"
   ]
  },
  {
   "cell_type": "markdown",
   "metadata": {
    "nteract": {
     "transient": {
      "deleting": false
     }
    },
    "slideshow": {
     "slide_type": "slide"
    }
   },
   "source": [
    "# Network analytics ― week 3\n",
    "\n",
    "<img src=\"images/Figure3.png\" alt=\"Drawing\" style=\"width: 1000px;\"/>"
   ]
  },
  {
   "cell_type": "markdown",
   "metadata": {
    "nteract": {
     "transient": {
      "deleting": false
     }
    },
    "slideshow": {
     "slide_type": "slide"
    }
   },
   "source": [
    "# Agenda\n",
    "\n",
    "- Network theory:\n",
    "    - small-world networks\n",
    "    - core-periphery structures\n",
    "    - community structures"
   ]
  },
  {
   "cell_type": "markdown",
   "metadata": {
    "nteract": {
     "transient": {
      "deleting": false
     }
    },
    "slideshow": {
     "slide_type": "slide"
    }
   },
   "source": [
    "# Small-world network and 6 degree of separation"
   ]
  },
  {
   "cell_type": "markdown",
   "metadata": {
    "nteract": {
     "transient": {
      "deleting": false
     }
    },
    "slideshow": {
     "slide_type": "fragment"
    }
   },
   "source": [
    "Everybody in this world is 6 degree distant from us !?"
   ]
  },
  {
   "cell_type": "markdown",
   "metadata": {
    "nteract": {
     "transient": {
      "deleting": false
     }
    },
    "slideshow": {
     "slide_type": "fragment"
    }
   },
   "source": [
    "Where does that come from?"
   ]
  },
  {
   "cell_type": "markdown",
   "metadata": {
    "nteract": {
     "transient": {
      "deleting": false
     }
    },
    "slideshow": {
     "slide_type": "subslide"
    }
   },
   "source": [
    "# Paths and distances\n",
    "\n",
    "\n",
    "* A path between nodes is an ordered list of n links P = {(i0, i1), (i1, i2), (i2, i3), ... ,(in-1, in)}. The length of this path is n. The path shown in orange in (a) follows the route 1→2→5→7→4→6, hence its length is n = 5.\n",
    "* The shortest paths between nodes 1 and 7, or the distance d17, correspond to the path with the fewest number of links that connect nodes 1 to 7. There can be multiple paths of the same length, as illustrated by the two paths shown in orange and grey\n",
    "* The network diameter is the largest distance in the network, being dmax = 3 here.\n",
    "\n",
    "<img src=\"images/paths_and_distances.jpg\" alt=\"Drawing\" style=\"width: 800px;\"/>\n",
    "\n",
    "\n",
    "Source: Barabasi (2016)\n"
   ]
  },
  {
   "cell_type": "markdown",
   "metadata": {
    "nteract": {
     "transient": {
      "deleting": false
     }
    },
    "slideshow": {
     "slide_type": "subslide"
    }
   },
   "source": [
    "# Milgram's experiment\n",
    "\n",
    "- in 1967, Milgram run an experiment by asking randomly chosen **starter** individuals to each try forwarding a letter to a designated **target** person\n",
    "- he provided the target's name, address, occupation, and some demographics.\n",
    "- also, he stipulated each participant could only advance the letter by forwarding it to a single acquaintance he/she knew on a first name basis with the goal of reaching the target as soon as possible"
   ]
  },
  {
   "cell_type": "markdown",
   "metadata": {
    "nteract": {
     "transient": {
      "deleting": false
     }
    },
    "slideshow": {
     "slide_type": "fragment"
    }
   },
   "source": [
    "$\\rightarrow$ circa 1/3 of the letters got the target with a median of six-steps"
   ]
  },
  {
   "cell_type": "markdown",
   "metadata": {
    "nteract": {
     "transient": {
      "deleting": false
     }
    },
    "slideshow": {
     "slide_type": "fragment"
    }
   },
   "source": [
    "$\\rightarrow$ common wisdom has developed around this result: \"Everybody is connected to everybody else\" or \"I'm indirectly connected with Jay-Z\""
   ]
  },
  {
   "cell_type": "markdown",
   "metadata": {
    "nteract": {
     "transient": {
      "deleting": false
     }
    },
    "slideshow": {
     "slide_type": "fragment"
    }
   },
   "source": [
    "$\\rightarrow$ in fact, the insight of the study is: \"in some circumstances, it is possible to exploit short paths to reach socially distant others\"\n"
   ]
  },
  {
   "cell_type": "markdown",
   "metadata": {
    "slideshow": {
     "slide_type": "subslide"
    }
   },
   "source": [
    "# Let's further elaborate on this idea of 'reaching socially distant others'..."
   ]
  },
  {
   "cell_type": "markdown",
   "metadata": {
    "nteract": {
     "transient": {
      "deleting": false
     }
    },
    "slideshow": {
     "slide_type": "subslide"
    }
   },
   "source": [
    "# Average path length\n",
    "\n",
    "The average path length, denoted by $\\langle d \\rangle$, is the average distance between all pairs of nodes in the network.\n",
    "\n",
    "For a directed network of N nodes, $\\langle d \\rangle$ is:\n",
    "\n",
    "$\n",
    "d = \\frac{1}{N * (N - 1)} \\sum_{i, j = 1, N; i \\neq j} d_{i, j}\n",
    "$\n"
   ]
  },
  {
   "cell_type": "markdown",
   "metadata": {
    "nteract": {
     "transient": {
      "deleting": false
     }
    },
    "slideshow": {
     "slide_type": "subslide"
    }
   },
   "source": [
    "# Connectedness\n",
    "\n",
    "\n",
    "* A is a network with two disconnected components. Indeed, there is a path between any pair of nodes in the (1,2,3) component, as well in the (4,5,6,7) component. However, there are no paths between nodes that belong to the different components.\n",
    "* The right panel shows the adjacently matrix of the network. If the network has disconnected components, the adjacency matrix can be rearranged into a block diagonal form, such that all nonzero elements of the matrix are contained in square blocks along the diagonal of the matrix and all other elements are zero.\n",
    "* The addition of a single link, called a bridge, shown in grey, turns A into B, which has a single connected component. Now there is a path between every pair of nodes in the network. Consequently the adjacency matrix cannot be written in a block diagonal form.\n",
    "\n",
    "\n",
    "<img src=\"images/connectedness.jpg\" alt=\"Drawing\" style=\"width: 800px;\"/>\n",
    "\n",
    "\n",
    "Source: Barabasi (2016)\n"
   ]
  },
  {
   "cell_type": "markdown",
   "metadata": {
    "slideshow": {
     "slide_type": "subslide"
    }
   },
   "source": [
    "# Let's go back to Milgram's experiment\n",
    "\n",
    "2/3 of nodes didn't reach the target!\n",
    "\n",
    "Why?"
   ]
  },
  {
   "cell_type": "markdown",
   "metadata": {
    "nteract": {
     "transient": {
      "deleting": false
     }
    },
    "slideshow": {
     "slide_type": "subslide"
    }
   },
   "source": [
    "# How difficult/costly is exploiting 'short paths', part I\n",
    "\n",
    "<img src=\"images/cost_of_search.png\" alt=\"Drawing\" style=\"width: 800px;\"/>"
   ]
  },
  {
   "cell_type": "markdown",
   "metadata": {
    "nteract": {
     "transient": {
      "deleting": false
     }
    },
    "slideshow": {
     "slide_type": "subslide"
    }
   },
   "source": [
    "# How difficult/costly is exploiting 'short paths', part II\n",
    "\n",
    "<img src=\"images/cp_0.png\" alt=\"Drawing\" style=\"width: 800px;\"/>\n",
    "\n",
    "---\n",
    "Notes: nodes have heterogenous access to shorth paths; core nodes have an advantage over peripheral nodes."
   ]
  },
  {
   "cell_type": "markdown",
   "metadata": {
    "nteract": {
     "transient": {
      "deleting": false
     }
    },
    "slideshow": {
     "slide_type": "subslide"
    }
   },
   "source": [
    "# Cumulative advantage of core nodes\n",
    "\n",
    "Core nodes:\n",
    "\n",
    "- have early stage access to the resources embedded int the network\n",
    "\n",
    "- control the flow of resources within the network\n",
    "\n",
    "- can act strategically to preserve their favorable positions\n",
    "\n",
    "\n",
    "This come at the expenses of peripheral nodes who:\n",
    "\n",
    "- rarely participate in collective search processes (that is, they struggle to bring to the table what they have to offer)\n",
    "\n",
    "- rarely progress toward the core of the network (because core nodes block their 'initiatives')"
   ]
  },
  {
   "cell_type": "markdown",
   "metadata": {
    "nteract": {
     "transient": {
      "deleting": false
     }
    },
    "slideshow": {
     "slide_type": "subslide"
    }
   },
   "source": [
    "# Cumulative advantage of core nodes: An example\n",
    "\n",
    "<img src=\"images/cattani_ferriani_allison.png\" alt=\"Drawing\" style=\"width: 600px;\"/>"
   ]
  },
  {
   "cell_type": "markdown",
   "metadata": {
    "nteract": {
     "transient": {
      "deleting": false
     }
    },
    "slideshow": {
     "slide_type": "subslide"
    }
   },
   "source": [
    "# Is there any hope for peripheral nodes to improve their position?\n",
    "\n",
    "**Exogenous shocks**, such as the sudden premature deaths of core nodes, can create some opportunities for nodes to move from the fringes to the center of the network"
   ]
  },
  {
   "cell_type": "markdown",
   "metadata": {
    "nteract": {
     "transient": {
      "deleting": false
     }
    },
    "slideshow": {
     "slide_type": "subslide"
    }
   },
   "source": [
    "<img src=\"images/cattani_ferriani_santoni.png\" alt=\"Drawing\" style=\"width: 600px;\"/>"
   ]
  },
  {
   "cell_type": "markdown",
   "metadata": {
    "nteract": {
     "transient": {
      "deleting": false
     }
    },
    "slideshow": {
     "slide_type": "subslide"
    }
   },
   "source": [
    "# How do we identify core-periphery structures?"
   ]
  },
  {
   "cell_type": "markdown",
   "metadata": {
    "cell_style": "split",
    "nteract": {
     "transient": {
      "deleting": false
     }
    },
    "slideshow": {
     "slide_type": "fragment"
    }
   },
   "source": [
    "Basically, we look for a partitioning of $A_{i, j}$ such that:\n",
    "\n",
    "<img src=\"images/cp_block.gif\" alt=\"Drawing\" style=\"width: 600px;\"/>"
   ]
  },
  {
   "cell_type": "markdown",
   "metadata": {
    "cell_style": "split",
    "nteract": {
     "transient": {
      "deleting": false
     }
    },
    "slideshow": {
     "slide_type": "fragment"
    }
   },
   "source": [
    "<img src=\"images/borgatti_everett.png\" alt=\"Drawing\" style=\"width: 600px;\"/>"
   ]
  },
  {
   "cell_type": "markdown",
   "metadata": {
    "nteract": {
     "transient": {
      "deleting": false
     }
    },
    "slideshow": {
     "slide_type": "slide"
    }
   },
   "source": [
    "# Let's go back to the properties of small-worlds"
   ]
  },
  {
   "cell_type": "markdown",
   "metadata": {
    "nteract": {
     "transient": {
      "deleting": false
     }
    },
    "slideshow": {
     "slide_type": "subslide"
    }
   },
   "source": [
    "# Can we make up a simple model that exhibits clustering but  also  very  short  paths? \n"
   ]
  },
  {
   "cell_type": "markdown",
   "metadata": {
    "nteract": {
     "transient": {
      "deleting": false
     }
    },
    "slideshow": {
     "slide_type": "subslide"
    }
   },
   "source": [
    "# Clustering\n",
    "\n",
    "$\n",
    "C_{i} = \\frac{2L_{i}}{k_{i} * (k_{i} - 1)}\n",
    "$\n",
    "\n",
    " where Li represents the number of links between the ki neighbors of node i. Note that Ci is between 0 and 1 (Image 2.16a):\n",
    "\n",
    "* Ci = 0 if none of the neighbors of node i link to each other\n",
    "* Ci = 1 if the neighbors of node i form a complete graph, i.e. they all link to each other\n",
    "* Ci is the probability that two neighbors of a node link to each other. Consequently C = 0.5 implies that there is a 50% chance that two neighbors of a node are linked\n",
    "\n",
    "<img src=\"images/clustering.jpg\" alt=\"Drawing\" style=\"width: 800px;\"/>\n",
    "\n",
    "Source: Barabasi (2016)\n"
   ]
  },
  {
   "cell_type": "markdown",
   "metadata": {
    "nteract": {
     "transient": {
      "deleting": false
     }
    },
    "slideshow": {
     "slide_type": "subslide"
    }
   },
   "source": [
    "# Small-world network modeling: The Watts-Strogatz model"
   ]
  },
  {
   "cell_type": "markdown",
   "metadata": {
    "cell_style": "split",
    "nteract": {
     "transient": {
      "deleting": false
     }
    },
    "slideshow": {
     "slide_type": "fragment"
    }
   },
   "source": [
    "Watts and Steve argue it is possible to model networks based on the principles of:\n",
    "\n",
    "- homophily (we connect to others who are like ourselves)\n",
    "- weak ties (the links to acquaintances that connect us to parts of the network that would otherwise be far away)"
   ]
  },
  {
   "cell_type": "markdown",
   "metadata": {
    "cell_style": "split",
    "slideshow": {
     "slide_type": "fragment"
    }
   },
   "source": [
    "<img src=\"images/ws_1998.png\" alt=\"Drawing\" style=\"width: 600px;\"/>"
   ]
  },
  {
   "cell_type": "markdown",
   "metadata": {
    "nteract": {
     "transient": {
      "deleting": false
     }
    },
    "slideshow": {
     "slide_type": "subslide"
    }
   },
   "source": [
    "# The intuition behind the Watts-Strogatz model\n",
    "\n",
    "- let’s suppose that everyone lives on a two-dimensional grid\n",
    "    * we  can  imagine  the  grid  as  a  model  of  geographic  proximity,  or  potentially  some ore abstract kind of social proximity, but in any case a notion of similarity that guides the ormation of links\n",
    "\n",
    "- we now create a network by giving each node two kinds of links:\n",
    "    * those explainable purely by homophily, and \n",
    "    * those that constitute weak ties\n",
    "    \n",
    "- homophily is captured by having each node form a link to all other nodes that lie within a radius of up to $r$ grid steps away, for some constant value of $r$ ― these are the links you form to people because you are similar to them  \n",
    "- then, for some other constant value $k$, each node also forms a link to $k$ other nodes selected  uniformly  at  random  from  the  grid  —  these  correspond  to  weak  ties,  connecting nodes who lie very far apart on the grid"
   ]
  },
  {
   "cell_type": "markdown",
   "metadata": {
    "nteract": {
     "transient": {
      "deleting": false
     }
    },
    "slideshow": {
     "slide_type": "subslide"
    }
   },
   "source": [
    "# Business case discussion\n",
    "\n",
    "## How do small world networks impact the organization and functioning of the **Soundcloud** platform?"
   ]
  },
  {
   "cell_type": "markdown",
   "metadata": {
    "cell_style": "split",
    "slideshow": {
     "slide_type": "fragment"
    }
   },
   "source": [
    "![alt text](images/soundcloud_logo.jpg)"
   ]
  },
  {
   "cell_type": "markdown",
   "metadata": {
    "cell_style": "split",
    "slideshow": {
     "slide_type": "fragment"
    }
   },
   "source": [
    "![](images/framework.png)\n",
    "\n",
    "Source: Santoni, Stark, & Ferriani (2017)"
   ]
  },
  {
   "cell_type": "markdown",
   "metadata": {
    "nteract": {
     "transient": {
      "deleting": false
     }
    },
    "slideshow": {
     "slide_type": "slide"
    }
   },
   "source": [
    "# Communities in networks"
   ]
  },
  {
   "cell_type": "markdown",
   "metadata": {
    "nteract": {
     "transient": {
      "deleting": false
     }
    },
    "slideshow": {
     "slide_type": "subslide"
    }
   },
   "source": [
    "# The case of Belgium: Stylized observations\n",
    "\n",
    "- Belgium appears to be the model bicultural society: 59% of its citizens are Flemish, speaking Dutch and 40% are Walloons who speak French\n",
    "- As multiethnic countries break up all over the world, we must ask:\n",
    "    - How did this country foster the peaceful coexistence of these two ethnic groups since 1830? \n",
    "    - Is Belgium a densely knitted society, where it does not matter if one is Flemish or Walloon? \n",
    "    - Or we have two nations within the same borders, that learned to minimize contact with each other? "
   ]
  },
  {
   "cell_type": "markdown",
   "metadata": {
    "nteract": {
     "transient": {
      "deleting": false
     }
    },
    "slideshow": {
     "slide_type": "subslide"
    }
   },
   "source": [
    "# Evidence from a phone call pattern study\n",
    "\n",
    "<img src=\"images/figure-9-1.jpg\" alt=\"Drawing\" style=\"width: 700px;\"/>\n",
    "\n",
    "---\n",
    "**Notes:** node represent communities; the size of each node is proportional to the size of the community (counts of individuals); nodes' color reflect spoken language.\n",
    "\n",
    "**Source:** Blondell et al. 2007"
   ]
  },
  {
   "cell_type": "markdown",
   "metadata": {
    "nteract": {
     "transient": {
      "deleting": false
     }
    },
    "slideshow": {
     "slide_type": "subslide"
    }
   },
   "source": [
    "# Definition of community\n",
    "\n",
    "In network science we call a community a group of nodes that have a higher likelihood of connecting to each other than to nodes from other communities."
   ]
  },
  {
   "cell_type": "markdown",
   "metadata": {
    "nteract": {
     "transient": {
      "deleting": false
     }
    },
    "slideshow": {
     "slide_type": "subslide"
    }
   },
   "source": [
    "# Example of community: Zachary's karate club study"
   ]
  },
  {
   "cell_type": "markdown",
   "metadata": {
    "cell_style": "split",
    "slideshow": {
     "slide_type": "fragment"
    }
   },
   "source": [
    "<img src=\"images/figure-9-2.jpg\" alt=\"Drawing\" style=\"width: 800px;\"/>"
   ]
  },
  {
   "cell_type": "markdown",
   "metadata": {
    "cell_style": "split",
    "nteract": {
     "transient": {
      "deleting": false
     }
    },
    "slideshow": {
     "slide_type": "fragment"
    }
   },
   "source": [
    "- N = 34\n",
    "- 78 pairwise links between members who regularly interacted outside the club\n",
    "- the conflict between the club's president and the instructor split the club into two."
   ]
  },
  {
   "cell_type": "markdown",
   "metadata": {
    "nteract": {
     "transient": {
      "deleting": false
     }
    },
    "slideshow": {
     "slide_type": "subslide"
    }
   },
   "source": [
    "# Basics of Communities\n",
    "\n",
    "- what do we really mean by a community?\n",
    "- how many communities are there in a network? \n",
    "- how many different ways can we partition a network into communities?"
   ]
  },
  {
   "cell_type": "markdown",
   "metadata": {
    "nteract": {
     "transient": {
      "deleting": false
     }
    },
    "slideshow": {
     "slide_type": "subslide"
    }
   },
   "source": [
    "# Key structural properties of communities"
   ]
  },
  {
   "cell_type": "markdown",
   "metadata": {
    "cell_style": "split",
    "nteract": {
     "transient": {
      "deleting": false
     }
    },
    "slideshow": {
     "slide_type": "fragment"
    }
   },
   "source": [
    "<img src=\"images/figure-9-4.jpg\" alt=\"Drawing\" style=\"width: 800px;\"/>"
   ]
  },
  {
   "cell_type": "markdown",
   "metadata": {
    "cell_style": "split",
    "nteract": {
     "transient": {
      "deleting": false
     }
    },
    "slideshow": {
     "slide_type": "fragment"
    }
   },
   "source": [
    "- **Connectedness:** Each community corresponds to a connected subgraph\n",
    "\n",
    "- **Density Hypothesis**: Nodes in a community are more likely to connect to other members of the same community than to nodes in other communities"
   ]
  },
  {
   "cell_type": "markdown",
   "metadata": {
    "nteract": {
     "transient": {
      "deleting": false
     }
    },
    "slideshow": {
     "slide_type": "subslide"
    }
   },
   "source": [
    "# Forms of communities\n",
    "\n",
    "**Strong community:** $C$ is a **strong community** if each node within C has more links within the community than with the rest of the graph. Specifically, a subgraph C forms a strong community if for each node $i$ $\\in$ $C$\n",
    "\n",
    "\\begin{equation}\n",
    "k_{int}^{i}(C) > k_{ext}{i}(C)\n",
    "\\end{equation}\n",
    "\n",
    "**Weak Community:** C is a weak community if the total internal degree of a subgraph exceeds its total external degree. Specifically, a subgraph C forms a weak community if\n",
    "\n",
    "\\begin{equation}\n",
    "\\sum_{i \\in C} k_{int}^{i}(C) > \\sum_{i \\in C} k_{ext}^{i}(C)\n",
    "\\end{equation}"
   ]
  },
  {
   "cell_type": "markdown",
   "metadata": {
    "nteract": {
     "transient": {
      "deleting": false
     }
    },
    "slideshow": {
     "slide_type": "subslide"
    }
   },
   "source": [
    "# Forms of communities, example\n",
    "\n",
    "<img src=\"images/figure-9-5.jpg\" alt=\"Drawing\" style=\"width: 2000px;\"/>\n",
    "---\n",
    "**Notes:** a) clique; b) strong community; c) weak community. "
   ]
  },
  {
   "cell_type": "markdown",
   "metadata": {
    "nteract": {
     "transient": {
      "deleting": false
     }
    },
    "slideshow": {
     "slide_type": "subslide"
    }
   },
   "source": [
    "# How do we identifiy communities in networks?\n",
    "\n",
    "- agglomerative procedure (hierarchical clustering)\n",
    "- divisive procedure"
   ]
  }
 ],
 "metadata": {
  "celltoolbar": "Slideshow",
  "hide_input": false,
  "kernelspec": {
   "display_name": "Python 3 (ipykernel)",
   "language": "python",
   "name": "python3"
  },
  "language_info": {
   "codemirror_mode": {
    "name": "ipython",
    "version": 3
   },
   "file_extension": ".py",
   "mimetype": "text/x-python",
   "name": "python",
   "nbconvert_exporter": "python",
   "pygments_lexer": "ipython3",
   "version": "3.9.1"
  },
  "latex_envs": {
   "LaTeX_envs_menu_present": true,
   "autoclose": false,
   "autocomplete": true,
   "bibliofile": "biblio.bib",
   "cite_by": "apalike",
   "current_citInitial": 1,
   "eqLabelWithNumbers": true,
   "eqNumInitial": 1,
   "hotkeys": {
    "equation": "Ctrl-E",
    "itemize": "Ctrl-I"
   },
   "labels_anchors": false,
   "latex_user_defs": false,
   "report_style_numbering": false,
   "user_envs_cfg": false
  },
  "nbTranslate": {
   "displayLangs": [
    "*"
   ],
   "hotkey": "alt-t",
   "langInMainMenu": true,
   "sourceLang": "en",
   "targetLang": "fr",
   "useGoogleTranslate": true
  },
  "rise": {
   "enable_chalkboard": true
  },
  "toc": {
   "base_numbering": 1,
   "nav_menu": {},
   "number_sections": false,
   "sideBar": false,
   "skip_h1_title": false,
   "title_cell": "Table of Contents",
   "title_sidebar": "Contents",
   "toc_cell": true,
   "toc_position": {
    "height": "504.667px",
    "left": "93px",
    "top": "201px",
    "width": "298.188px"
   },
   "toc_section_display": true,
   "toc_window_display": false
  },
  "varInspector": {
   "cols": {
    "lenName": 16,
    "lenType": 16,
    "lenVar": 40
   },
   "kernels_config": {
    "python": {
     "delete_cmd_postfix": "",
     "delete_cmd_prefix": "del ",
     "library": "var_list.py",
     "varRefreshCmd": "print(var_dic_list())"
    },
    "r": {
     "delete_cmd_postfix": ") ",
     "delete_cmd_prefix": "rm(",
     "library": "var_list.r",
     "varRefreshCmd": "cat(var_dic_list()) "
    }
   },
   "types_to_exclude": [
    "module",
    "function",
    "builtin_function_or_method",
    "instance",
    "_Feature"
   ],
   "window_display": false
  }
 },
 "nbformat": 4,
 "nbformat_minor": 1
}
