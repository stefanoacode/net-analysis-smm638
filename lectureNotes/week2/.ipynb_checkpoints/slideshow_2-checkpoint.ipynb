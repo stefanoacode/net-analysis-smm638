{
 "cells": [
  {
   "cell_type": "markdown",
   "metadata": {
    "toc": true
   },
   "source": [
    "### <h1>Table of Contents<span class=\"tocSkip\"></span></h1>\n",
    "<div class=\"toc\"><ul class=\"toc-item\"><li><span><a href=\"#Network-analytics-―-week-2,-part-B\" data-toc-modified-id=\"Network-analytics-―-week-2,-part-B-1\">Network analytics ― week 2, part B</a></span></li><li><span><a href=\"#Agenda\" data-toc-modified-id=\"Agenda-2\">Agenda</a></span></li><li><span><a href=\"#Two-fundamental-questions-about-networks\" data-toc-modified-id=\"Two-fundamental-questions-about-networks-3\">Two fundamental questions about networks</a></span></li><li><span><a href=\"#Fields-embracing-the-'network-as-a-method'-approach\" data-toc-modified-id=\"Fields-embracing-the-'network-as-a-method'-approach-4\">Fields embracing the 'network-as-a-method' approach</a></span></li><li><span><a href=\"#Fields-embracing-the-'network-as-a-method'-approach\" data-toc-modified-id=\"Fields-embracing-the-'network-as-a-method'-approach-5\">Fields embracing the 'network-as-a-method' approach</a></span><ul class=\"toc-item\"><li><span><a href=\"#Neuroscience\" data-toc-modified-id=\"Neuroscience-5.1\">Neuroscience</a></span></li></ul></li><li><span><a href=\"#Fields-embracing-the-'network-as-a-method'-approach\" data-toc-modified-id=\"Fields-embracing-the-'network-as-a-method'-approach-6\">Fields embracing the 'network-as-a-method' approach</a></span><ul class=\"toc-item\"><li><span><a href=\"#Genetics\" data-toc-modified-id=\"Genetics-6.1\">Genetics</a></span></li></ul></li><li><span><a href=\"#Fields-embracing-the-'network-as-a-method'-approach\" data-toc-modified-id=\"Fields-embracing-the-'network-as-a-method'-approach-7\">Fields embracing the 'network-as-a-method' approach</a></span><ul class=\"toc-item\"><li><span><a href=\"#Complex-systems\" data-toc-modified-id=\"Complex-systems-7.1\">Complex systems</a></span></li></ul></li><li><span><a href=\"#Fields-embracing-the-integrative-perspective-on-networks\" data-toc-modified-id=\"Fields-embracing-the-integrative-perspective-on-networks-8\">Fields embracing the integrative perspective on networks</a></span><ul class=\"toc-item\"><li><span><a href=\"#Economic-sociology\" data-toc-modified-id=\"Economic-sociology-8.1\">Economic sociology</a></span></li></ul></li><li><span><a href=\"#Fields-embracing-the-integrative-perspective-on-networks\" data-toc-modified-id=\"Fields-embracing-the-integrative-perspective-on-networks-9\">Fields embracing the integrative perspective on networks</a></span><ul class=\"toc-item\"><li><span><a href=\"#Economic-sociology-―-Mark-Granovetter\" data-toc-modified-id=\"Economic-sociology-―-Mark-Granovetter-9.1\">Economic sociology ― Mark Granovetter</a></span></li></ul></li><li><span><a href=\"#Overview-of-the-sociology-of-markets-readings\" data-toc-modified-id=\"Overview-of-the-sociology-of-markets-readings-10\">Overview of the sociology of markets readings</a></span><ul class=\"toc-item\"><li><span><a href=\"#(warmly-suggested-reading)\" data-toc-modified-id=\"(warmly-suggested-reading)-10.1\">(warmly suggested reading)</a></span></li></ul></li><li><span><a href=\"#Example:-How-do-networks-notions-help-us-in-analysing-'curious'-models-of-product-such-as-industrial-districts?\" data-toc-modified-id=\"Example:-How-do-networks-notions-help-us-in-analysing-'curious'-models-of-product-such-as-industrial-districts?-11\">Example: How do networks notions help us in analysing 'curious' models of product such as industrial districts?</a></span></li><li><span><a href=\"#Example:-How-do-networks-notions-help-us-in-analysing-'curious'-models-of-product-such-as-industrial-districts?\" data-toc-modified-id=\"Example:-How-do-networks-notions-help-us-in-analysing-'curious'-models-of-product-such-as-industrial-districts?-12\">Example: How do networks notions help us in analysing 'curious' models of product such as industrial districts?</a></span></li><li><span><a href=\"#Economic-and-social-interactions-go-hand-in-hand\" data-toc-modified-id=\"Economic-and-social-interactions-go-hand-in-hand-13\">Economic and social interactions go hand-in-hand</a></span></li><li><span><a href=\"#Network-theories-in-economic-sociology-and-business-&amp;-management\" data-toc-modified-id=\"Network-theories-in-economic-sociology-and-business-&amp;-management-14\">Network theories in economic sociology and business &amp; management</a></span></li><li><span><a href=\"#Overview-of-network-theory\" data-toc-modified-id=\"Overview-of-network-theory-15\">Overview of network theory</a></span><ul class=\"toc-item\"><li><span><a href=\"#(warmly-suggested-reading)\" data-toc-modified-id=\"(warmly-suggested-reading)-15.1\">(warmly suggested reading)</a></span></li></ul></li><li><span><a href=\"#Strong-ties:-key-features\" data-toc-modified-id=\"Strong-ties:-key-features-16\">Strong ties: key features</a></span></li><li><span><a href=\"#Strong-ties-in-the-economy:-Silicon-Valley\" data-toc-modified-id=\"Strong-ties-in-the-economy:-Silicon-Valley-17\">Strong ties in the economy: Silicon Valley</a></span></li><li><span><a href=\"#Weak-ties:-key-features\" data-toc-modified-id=\"Weak-ties:-key-features-18\">Weak ties: key features</a></span></li><li><span><a href=\"#Weak-ties-in-the-economy:-White-truffles-(my-father's-business)\" data-toc-modified-id=\"Weak-ties-in-the-economy:-White-truffles-(my-father's-business)-19\">Weak ties in the economy: White truffles (my father's business)</a></span></li></ul></div>"
   ]
  },
  {
   "cell_type": "markdown",
   "metadata": {
    "slideshow": {
     "slide_type": "slide"
    }
   },
   "source": [
    "# Network analytics ― week 2, part B\n",
    "\n",
    "<img src=\"images/colors.png\" alt=\"Drawing\" style=\"width: 800px;\"/>"
   ]
  },
  {
   "cell_type": "markdown",
   "metadata": {
    "slideshow": {
     "slide_type": "slide"
    }
   },
   "source": [
    "# Agenda\n",
    "\n",
    "+ research angles on networks\n",
    "+ value creation and network mechanisms"
   ]
  },
  {
   "cell_type": "markdown",
   "metadata": {
    "slideshow": {
     "slide_type": "slide"
    }
   },
   "source": [
    "# Two fundamental questions about networks \n",
    "\n",
    "* How can we use networks as a method/technique to get a closer appreciation of complex phenomena?\n",
    "* How do networks matter for the organization and functioning of organizations and broader social systems?"
   ]
  },
  {
   "cell_type": "markdown",
   "metadata": {
    "slideshow": {
     "slide_type": "slide"
    }
   },
   "source": [
    "# Fields embracing the 'network-as-a-method' approach"
   ]
  },
  {
   "cell_type": "markdown",
   "metadata": {
    "slideshow": {
     "slide_type": "subslide"
    }
   },
   "source": [
    "# Fields embracing the 'network-as-a-method' approach\n",
    "\n",
    "## Neuroscience\n",
    "\n",
    "<img src=\"images/nature.jpg\" alt=\"Drawing\" style=\"width: 800px;\"/>"
   ]
  },
  {
   "cell_type": "markdown",
   "metadata": {
    "slideshow": {
     "slide_type": "subslide"
    }
   },
   "source": [
    "# Fields embracing the 'network-as-a-method' approach\n",
    "\n",
    "## Genetics\n",
    "\n",
    "<img src=\"images/genetics.jpg\" alt=\"Drawing\" style=\"width: 800px;\"/>"
   ]
  },
  {
   "cell_type": "markdown",
   "metadata": {
    "slideshow": {
     "slide_type": "subslide"
    }
   },
   "source": [
    "# Fields embracing the 'network-as-a-method' approach\n",
    "\n",
    "## Complex systems\n",
    "\n",
    "<img src=\"images/complexity.gif\" alt=\"Drawing\" style=\"width: 800px;\"/>"
   ]
  },
  {
   "cell_type": "markdown",
   "metadata": {
    "slideshow": {
     "slide_type": "slide"
    }
   },
   "source": [
    "# Fields embracing the integrative perspective on networks\n",
    "\n",
    "## Economic sociology\n",
    "\n",
    "How do networks influence the organization and functioning of markets?"
   ]
  },
  {
   "cell_type": "markdown",
   "metadata": {
    "slideshow": {
     "slide_type": "subslide"
    }
   },
   "source": [
    "# Fields embracing the integrative perspective on networks"
   ]
  },
  {
   "cell_type": "markdown",
   "metadata": {
    "cell_style": "split",
    "slideshow": {
     "slide_type": "fragment"
    }
   },
   "source": [
    "__Economic sociology ― Mark Granovetter__\n",
    "\n",
    "<img src=\"images/granovetter.jpg\" alt=\"Drawing\" style=\"width: 700px;\"/>"
   ]
  },
  {
   "cell_type": "markdown",
   "metadata": {
    "cell_style": "split",
    "slideshow": {
     "slide_type": "fragment"
    }
   },
   "source": [
    "Granovetter's core messages:\n",
    "\n",
    "+ The economic action is embedded into social structures\n",
    "+ Economic and social exchange are note analytically distinct phenomena"
   ]
  },
  {
   "cell_type": "markdown",
   "metadata": {
    "slideshow": {
     "slide_type": "subslide"
    }
   },
   "source": [
    "# Overview of the sociology of markets readings\n",
    "\n",
    "## (warmly suggested reading)\n",
    "\n",
    "![](images/fourcade.png)"
   ]
  },
  {
   "cell_type": "markdown",
   "metadata": {
    "slideshow": {
     "slide_type": "subslide"
    }
   },
   "source": [
    "# Example: How do networks notions help us in analysing 'curious' models of product such as industrial districts?\n",
    "\n",
    "Key features of industrials/[industrial districts](https://en.wikipedia.org/wiki/Industrial_district):\n",
    "    \n",
    "* spatial concentration of a large number of firms operating in a same industry\n",
    "* firm size is small or very small (just a few employees)\n",
    "* absence of leading, prominent companies\n",
    "* firms have specialized knowledge\n",
    "* the value chain develops across the boundaries of a vast number of different organizations"
   ]
  },
  {
   "cell_type": "markdown",
   "metadata": {
    "slideshow": {
     "slide_type": "subslide"
    }
   },
   "source": [
    "# Example: How do networks notions help us in analysing 'curious' models of product such as industrial districts?\n",
    "\n",
    "A network perspective helps us to address fundamental business/management questions such as:\n",
    "\n",
    "+ Why do firms belonging to these spatial agglomerations remain so small?\n",
    "+ Why don't they internalize some activities?\n",
    "+ Isn't coordination of economic activities too complex/costly to carry-out at the network level?\n",
    "+ Is there any alternative form of labor division that is more efficient?"
   ]
  },
  {
   "cell_type": "markdown",
   "metadata": {
    "slideshow": {
     "slide_type": "subslide"
    }
   },
   "source": [
    "# Economic and social interactions go hand-in-hand"
   ]
  },
  {
   "cell_type": "markdown",
   "metadata": {
    "cell_style": "split",
    "slideshow": {
     "slide_type": "fragment"
    }
   },
   "source": [
    "Economic fabric\n",
    "\n",
    "![alt text](http://www.tvprato.it/wp-content/uploads/2014/04/macrolotto-0.png)"
   ]
  },
  {
   "cell_type": "markdown",
   "metadata": {
    "cell_style": "split",
    "slideshow": {
     "slide_type": "fragment"
    }
   },
   "source": [
    "Social fabric\n",
    "\n",
    "![alt text](http://1.bp.blogspot.com/-aZzvMADj9sQ/T6_7GR1z_JI/AAAAAAAAALk/ePTqDT3l_Qc/s1600/Mescolare+carte.jpg)"
   ]
  },
  {
   "cell_type": "markdown",
   "metadata": {
    "slideshow": {
     "slide_type": "slide"
    }
   },
   "source": [
    "# Network theories in economic sociology and business & management"
   ]
  },
  {
   "cell_type": "markdown",
   "metadata": {
    "slideshow": {
     "slide_type": "notes"
    }
   },
   "source": [
    "1. Scholars from the cognate fields of economic sociology and management have paid tremendous\n",
    "   attention to the orgnization and functioning of markets\n",
    "\n",
    "2. One of the most important result they have achieved concerns the channels through which\n",
    "   networks sustain value creation activities"
   ]
  },
  {
   "cell_type": "markdown",
   "metadata": {
    "slideshow": {
     "slide_type": "fragment"
    }
   },
   "source": [
    "How do networks bring value to actors, groups, and societies?"
   ]
  },
  {
   "cell_type": "markdown",
   "metadata": {
    "slideshow": {
     "slide_type": "fragment"
    }
   },
   "source": [
    "* Strong ties and closure mechanisms"
   ]
  },
  {
   "cell_type": "markdown",
   "metadata": {
    "slideshow": {
     "slide_type": "fragment"
    }
   },
   "source": [
    "* Weak ties and brokerage mechanisms"
   ]
  },
  {
   "cell_type": "markdown",
   "metadata": {
    "slideshow": {
     "slide_type": "slide"
    }
   },
   "source": [
    "# Overview of network theory\n",
    "\n",
    "## (warmly suggested reading)\n",
    "\n",
    "![](images/scott_carrington.jpg)\n",
    "\n",
    "Relevant chapter: Part I, Chapter 3 (by Borgatti & Lopez-Kidwell)"
   ]
  },
  {
   "cell_type": "markdown",
   "metadata": {
    "slideshow": {
     "slide_type": "slide"
    }
   },
   "source": [
    "# Strong ties: key features\n",
    "\n"
   ]
  },
  {
   "cell_type": "markdown",
   "metadata": {
    "cell_style": "split",
    "slideshow": {
     "slide_type": "fragment"
    }
   },
   "source": [
    "* **Structural features:**\n",
    "    + Dense, redundant ties develop among actors\n",
    "    + Frequent, repeated interactions\n",
    "* **Cultural features:**\n",
    "    + Common values and norms\n",
    "    + Shared cognitive schemas\n",
    "    + Ties tend to imply emotional involvement"
   ]
  },
  {
   "cell_type": "markdown",
   "metadata": {
    "cell_style": "split",
    "slideshow": {
     "slide_type": "fragment"
    }
   },
   "source": [
    "* **Associated mechanism:**\n",
    "    + Closure\n",
    "* **Outcomes:**\n",
    "    + Information diffusion\n",
    "    + Resource access\n",
    "    + Knowledge transfer\n",
    "    + Reciprocity\n",
    "    + Trust\n",
    "    + Reliability\n",
    "    + Coordination\n",
    "    + Tight monitoring"
   ]
  },
  {
   "cell_type": "markdown",
   "metadata": {
    "slideshow": {
     "slide_type": "slide"
    }
   },
   "source": [
    "# Strong ties in the economy: Silicon Valley\n",
    "\n",
    "![](images/silicon_valley.jpg)\n"
   ]
  },
  {
   "cell_type": "markdown",
   "metadata": {
    "slideshow": {
     "slide_type": "slide"
    }
   },
   "source": [
    "# Weak ties: key features"
   ]
  },
  {
   "cell_type": "markdown",
   "metadata": {
    "cell_style": "split",
    "slideshow": {
     "slide_type": "fragment"
    }
   },
   "source": [
    "* **Structural features:**\n",
    "    + On of few bridging ties linking otherwise disconnected components\n",
    "    + Dense, redundant ties develop among actors within components\n",
    "    + Frequent, repeated interactions within components\n",
    "* **Cultural features:**\n",
    "    + Within-component commonality of values and norms\n",
    "    + Shared cognitive schemas within individual  components\n",
    "    + Ties tend to imply emotional involvement within individual components"
   ]
  },
  {
   "cell_type": "markdown",
   "metadata": {
    "cell_style": "split",
    "slideshow": {
     "slide_type": "fragment"
    }
   },
   "source": [
    "* **Associated mechanism:**\n",
    "    + Brokerage\n",
    "* **Outcomes:**\n",
    "    + Innovation\n",
    "    + Change\n",
    "    + Entrepreneurship\n",
    "    + Knowledge recombination\n",
    "    + Arbitrage\n",
    "    + Political behavior"
   ]
  },
  {
   "cell_type": "markdown",
   "metadata": {
    "slideshow": {
     "slide_type": "slide"
    }
   },
   "source": [
    "# Weak ties in the economy: White truffles (my father's business)\n",
    "\n",
    "* Luxury good (price ~ £ 6,000 per Kilogram)\n",
    "* Informal market\n",
    "* Very dense cluster of truffle hunters who are disconnected from elite chefs and consumers\n",
    "\n",
    "![](images/white_truffles.jpg)"
   ]
  }
 ],
 "metadata": {
  "celltoolbar": "Slideshow",
  "hide_input": false,
  "kernelspec": {
   "display_name": "Python 3 (ipykernel)",
   "language": "python",
   "name": "python3"
  },
  "language_info": {
   "codemirror_mode": {
    "name": "ipython",
    "version": 3
   },
   "file_extension": ".py",
   "mimetype": "text/x-python",
   "name": "python",
   "nbconvert_exporter": "python",
   "pygments_lexer": "ipython3",
   "version": "3.9.1"
  },
  "latex_envs": {
   "LaTeX_envs_menu_present": true,
   "autoclose": false,
   "autocomplete": true,
   "bibliofile": "biblio.bib",
   "cite_by": "apalike",
   "current_citInitial": 1,
   "eqLabelWithNumbers": true,
   "eqNumInitial": 1,
   "hotkeys": {
    "equation": "Ctrl-E",
    "itemize": "Ctrl-I"
   },
   "labels_anchors": false,
   "latex_user_defs": false,
   "report_style_numbering": false,
   "user_envs_cfg": false
  },
  "nbTranslate": {
   "displayLangs": [
    "*"
   ],
   "hotkey": "alt-t",
   "langInMainMenu": true,
   "sourceLang": "en",
   "targetLang": "fr",
   "useGoogleTranslate": true
  },
  "rise": {
   "enable_chalkboard": true
  },
  "toc": {
   "base_numbering": 1,
   "nav_menu": {},
   "number_sections": false,
   "sideBar": false,
   "skip_h1_title": false,
   "title_cell": "Table of Contents",
   "title_sidebar": "Contents",
   "toc_cell": true,
   "toc_position": {
    "height": "1046.25px",
    "left": "56.9883px",
    "top": "180px",
    "width": "480px"
   },
   "toc_section_display": false,
   "toc_window_display": false
  },
  "varInspector": {
   "cols": {
    "lenName": 16,
    "lenType": 16,
    "lenVar": 40
   },
   "kernels_config": {
    "python": {
     "delete_cmd_postfix": "",
     "delete_cmd_prefix": "del ",
     "library": "var_list.py",
     "varRefreshCmd": "print(var_dic_list())"
    },
    "r": {
     "delete_cmd_postfix": ") ",
     "delete_cmd_prefix": "rm(",
     "library": "var_list.r",
     "varRefreshCmd": "cat(var_dic_list()) "
    }
   },
   "types_to_exclude": [
    "module",
    "function",
    "builtin_function_or_method",
    "instance",
    "_Feature"
   ],
   "window_display": false
  }
 },
 "nbformat": 4,
 "nbformat_minor": 2
}
