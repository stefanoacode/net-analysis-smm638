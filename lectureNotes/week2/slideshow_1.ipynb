{
 "cells": [
  {
   "cell_type": "markdown",
   "metadata": {
    "toc": true
   },
   "source": [
    "<h1>Table of Contents<span class=\"tocSkip\"></span></h1>\n",
    "<div class=\"toc\"><ul class=\"toc-item\"><li><span><a href=\"#Network-analytics-―-week-2,-part-A\" data-toc-modified-id=\"Network-analytics-―-week-2,-part-A-1\">Network analytics ― week 2, part A</a></span></li><li><span><a href=\"#Agenda\" data-toc-modified-id=\"Agenda-2\">Agenda</a></span></li><li><span><a href=\"#Week-1-wrap-up\" data-toc-modified-id=\"Week-1-wrap-up-3\">Week 1 wrap-up</a></span></li><li><span><a href=\"#Key-concepts\" data-toc-modified-id=\"Key-concepts-4\">Key concepts</a></span></li><li><span><a href=\"#Forms-of-networks\" data-toc-modified-id=\"Forms-of-networks-5\">Forms of networks</a></span></li><li><span><a href=\"#Network-representations\" data-toc-modified-id=\"Network-representations-6\">Network representations</a></span></li><li><span><a href=\"#One-mode,-undirected,-unweighted-graph\" data-toc-modified-id=\"One-mode,-undirected,-unweighted-graph-7\">One-mode, undirected, unweighted graph</a></span></li><li><span><a href=\"#One-mode,-directed,-unweighted-graph\" data-toc-modified-id=\"One-mode,-directed,-unweighted-graph-8\">One-mode, directed, unweighted graph</a></span></li><li><span><a href=\"#One-mode,-undirected,-weighted-graph\" data-toc-modified-id=\"One-mode,-undirected,-weighted-graph-9\">One-mode, undirected, weighted graph</a></span></li><li><span><a href=\"#One-mode,-directed,-weighted-graph\" data-toc-modified-id=\"One-mode,-directed,-weighted-graph-10\">One-mode, directed, weighted graph</a></span></li><li><span><a href=\"#Two-mode,-undirected,-unweighted-graph\" data-toc-modified-id=\"Two-mode,-undirected,-unweighted-graph-11\">Two-mode, undirected, unweighted graph</a></span></li><li><span><a href=\"#Business-case-discussion\" data-toc-modified-id=\"Business-case-discussion-12\">Business case discussion</a></span></li><li><span><a href=\"#Business-case-discussion\" data-toc-modified-id=\"Business-case-discussion-13\">Business case discussion</a></span></li></ul></div>"
   ]
  },
  {
   "cell_type": "code",
   "execution_count": 1,
   "metadata": {
    "hide_input": true,
    "slideshow": {
     "slide_type": "skip"
    }
   },
   "outputs": [],
   "source": [
    "# Setup\n",
    "\n",
    "import matplotlib.pyplot as plt\n",
    "import matplotlib as mpl\n",
    "import pylab\n",
    "import numpy as np\n",
    "import pandas as pd\n",
    "import networkx as nx"
   ]
  },
  {
   "cell_type": "markdown",
   "metadata": {
    "slideshow": {
     "slide_type": "slide"
    }
   },
   "source": [
    "# Network analytics ― week 2, part A\n",
    "\n",
    "<img src=\"images/colors.png\" alt=\"Drawing\" style=\"width: 800px;\"/>"
   ]
  },
  {
   "cell_type": "markdown",
   "metadata": {
    "slideshow": {
     "slide_type": "slide"
    }
   },
   "source": [
    "# Agenda\n",
    "\n",
    "* week 1 wrap-up\n",
    "* forms of networks\n",
    "* representation of network data\n",
    "* case discussion: Soundcloud"
   ]
  },
  {
   "cell_type": "markdown",
   "metadata": {
    "slideshow": {
     "slide_type": "slide"
    }
   },
   "source": [
    "# Week 1 wrap-up"
   ]
  },
  {
   "cell_type": "markdown",
   "metadata": {
    "slideshow": {
     "slide_type": "slide"
    }
   },
   "source": [
    "# Key concepts"
   ]
  },
  {
   "cell_type": "markdown",
   "metadata": {
    "slideshow": {
     "slide_type": "notes"
    }
   },
   "source": [
    "1. Last week, the attention revolved around the question: \"What's a network?\"\n",
    "\n",
    "2. I emphasized that a network is a collection of three elements:\n",
    "   + nodes\n",
    "   + ties that link or don't link nodes\n",
    "   + a relation ― some physical, biological, behavioral, or psychological phenomena that tell\n",
    "     us what ties mean\n",
    "     \n",
    "3. In this sense, a network is more than a graph as mathematical object"
   ]
  },
  {
   "cell_type": "markdown",
   "metadata": {
    "slideshow": {
     "slide_type": "fragment"
    }
   },
   "source": [
    "* Network are made-up of **nodes** and **ties** that are kept together by substantive **relations** "
   ]
  },
  {
   "cell_type": "markdown",
   "metadata": {
    "slideshow": {
     "slide_type": "fragment"
    }
   },
   "source": [
    "* In other words, networks are more than graphs ${V, E}$  as mathematical objects"
   ]
  },
  {
   "cell_type": "markdown",
   "metadata": {
    "slideshow": {
     "slide_type": "slide"
    }
   },
   "source": [
    "# Forms of networks\n",
    "\n",
    "Networks can take several, non-exclusive forms:"
   ]
  },
  {
   "cell_type": "markdown",
   "metadata": {
    "slideshow": {
     "slide_type": "notes"
    }
   },
   "source": [
    "1. All across the various weeks of the module, we will spend substantial time to\n",
    "   represent various relations in network terms \n",
    "\n",
    "2. Such a representation exercise is all but trivial ― oftentimes, we have to carefully\n",
    "   consider the characteristics of the relation at the center of a network\n",
    "   \n",
    "3. In order to facilitate the mental exercise, it is particularly useful\n",
    "   to reason with some stylized networks\n",
    "   \n",
    "4. Particularly, there are some differentiating dimensions, say features, that we may want to consider \n",
    "   in order to understand 'what type of network we're dealing with'\n",
    "   \n",
    "5. Let's consider these features first - then, we'll focus on concrete examples\n",
    "\n",
    "6. It is widely accepted that the most relevant differentiating dimensions are:\n",
    "\n",
    "   + directed Vs undirected\n",
    "     - examples follow\n",
    "   + weighted Vs unweighted\n",
    "     - example follow\n",
    "   + one Vs two-mode\n",
    "     - example follow\n",
    "     \n",
    "7. Note: these features are not mutually exclusive; so, a network can be both directed and weighted\n",
    "\n",
    "8. Let's now focus on some popular examples of network and see how to represent them"
   ]
  },
  {
   "cell_type": "markdown",
   "metadata": {
    "slideshow": {
     "slide_type": "fragment"
    }
   },
   "source": [
    "* directed Vs undirected\n",
    "  + example of directed network: organizational hierarchy/who reports to whom\n",
    "  + example of undirected network: friendship"
   ]
  },
  {
   "cell_type": "markdown",
   "metadata": {
    "slideshow": {
     "slide_type": "fragment"
    }
   },
   "source": [
    "* weighted Vs unweighted\n",
    "  + example of weighted network: information exchange\n",
    "  + unweighted network: followership"
   ]
  },
  {
   "cell_type": "markdown",
   "metadata": {
    "slideshow": {
     "slide_type": "fragment"
    }
   },
   "source": [
    "* one-mode Vs two-mode (also called bipartite or affiliation networks)\n",
    "  * example of one-mode network: exchange of emails among employees\n",
    "  * example of two-mode network: students attending MSs modules"
   ]
  },
  {
   "cell_type": "markdown",
   "metadata": {
    "slideshow": {
     "slide_type": "slide"
    }
   },
   "source": [
    "# Network representations"
   ]
  },
  {
   "cell_type": "markdown",
   "metadata": {
    "slideshow": {
     "slide_type": "subslide"
    }
   },
   "source": [
    "#  One-mode, undirected, unweighted graph \n",
    "\n",
    "**Example:** 'friendship' network"
   ]
  },
  {
   "cell_type": "markdown",
   "metadata": {
    "hide_input": true,
    "slideshow": {
     "slide_type": "notes"
    }
   },
   "source": [
    "There are two alternatives to analytically represent a network:\n",
    "\n",
    "- using matrices\n",
    "- using network visualizations"
   ]
  },
  {
   "cell_type": "markdown",
   "metadata": {
    "cell_style": "split",
    "slideshow": {
     "slide_type": "fragment"
    }
   },
   "source": [
    "**Adjacency matrix**\n",
    "\n",
    "$\n",
    "A_{i,j} = \n",
    " \\begin{pmatrix}\n",
    "  0 & 1 & 0 & 1 \\\\\n",
    "  1 & 0 & 0 & 1 \\\\\n",
    "  0 & 0 & 0 & 1 \\\\\n",
    "  1 & 1 & 1 & 0 \\\\\n",
    " \\end{pmatrix}\n",
    " $"
   ]
  },
  {
   "cell_type": "code",
   "execution_count": 2,
   "metadata": {
    "ExecuteTime": {
     "end_time": "2020-10-08T12:53:34.813608Z",
     "start_time": "2020-10-08T12:53:16.836976Z"
    },
    "cell_style": "split",
    "code_folding": [],
    "hide_input": true,
    "scrolled": false,
    "slideshow": {
     "slide_type": "fragment"
    }
   },
   "outputs": [
    {
     "data": {
      "image/png": "[encoded data removed]",
      "text/plain": [
       "<Figure size 432x288 with 1 Axes>"
      ]
     },
     "metadata": {},
     "output_type": "display_data"
    }
   ],
   "source": [
    "# import the library\n",
    "import matplotlib.pyplot as plt\n",
    "import networkx as nx\n",
    "\n",
    "# initialize a new graph object\n",
    "G = nx.Graph()\n",
    "\n",
    "# define the set of nodes\n",
    "node_list = [0, 1, 2, 3]\n",
    "\n",
    "# populate the graph with nodes\n",
    "G.add_nodes_from(node_list)\n",
    "\n",
    "# define the set of edges\n",
    "edge_list = [(0, 1), (0, 3), (1, 3), (2, 3)]\n",
    "\n",
    "# populate the graph with edges\n",
    "G.add_edges_from(edge_list)\n",
    "\n",
    "# fix the drawing options\n",
    "options = {'node_color': 'purple',\n",
    "           'alpha': 1,\n",
    "           'node_size': 800,\n",
    "           'width': 1,\n",
    "           'with_labels': True,\n",
    "           'font_size': 24,\n",
    "           'font_color': 'white'}\n",
    "\n",
    "# draw the network\n",
    "nx.draw(G, **options)\n",
    "\n",
    "# add  title to the network\n",
    "plt.title('Visual representation\\n', fontsize=32)\n",
    "\n",
    "# show the plot\n",
    "plt.show()"
   ]
  },
  {
   "cell_type": "markdown",
   "metadata": {
    "slideshow": {
     "slide_type": "subslide"
    }
   },
   "source": [
    "# One-mode, directed, unweighted graph\n",
    "\n",
    "**Example:** 'organizational hierarchy' network ― i.e., who reports to whom"
   ]
  },
  {
   "cell_type": "markdown",
   "metadata": {
    "cell_style": "split",
    "hide_input": false,
    "slideshow": {
     "slide_type": "fragment"
    }
   },
   "source": [
    "**Adjacency matrix**\n",
    "\n",
    "$\n",
    "A_{i,j} = \n",
    " \\begin{pmatrix}\n",
    "  0 & 1 & 0 & 0 & 0 \\\\\n",
    "  0 & 0 & 0 & 0 & 1 \\\\\n",
    "  0 & 0 & 0 & 1 & 0 \\\\\n",
    "  0 & 0 & 0 & 0 & 1 \\\\\n",
    "  0 & 0 & 0 & 0 & 0 \\\\\n",
    " \\end{pmatrix}\n",
    " $"
   ]
  },
  {
   "cell_type": "code",
   "execution_count": 3,
   "metadata": {
    "ExecuteTime": {
     "end_time": "2020-10-08T13:04:20.411788Z",
     "start_time": "2020-10-08T13:04:20.239843Z"
    },
    "cell_style": "split",
    "hide_input": true,
    "scrolled": false,
    "slideshow": {
     "slide_type": "fragment"
    }
   },
   "outputs": [
    {
     "data": {
      "image/png": "[encoded data removed]",
      "text/plain": [
       "<Figure size 432x288 with 1 Axes>"
      ]
     },
     "metadata": {},
     "output_type": "display_data"
    }
   ],
   "source": [
    "# initialize the graph\n",
    "G = nx.DiGraph()\n",
    "\n",
    "# define the set of nodes\n",
    "node_list = [0, 1, 2, 3, 4]\n",
    "\n",
    "# populate the graph with nodes\n",
    "G.add_nodes_from(node_list)\n",
    "\n",
    "# define the set of edges\n",
    "edge_list = [(0, 1), (1, 4),\n",
    "             (2, 3), (3, 4)]\n",
    "\n",
    "# populate the graph with edges\n",
    "G.add_edges_from(edge_list)\n",
    "\n",
    "# fix drawing options\n",
    "options = {'node_color': 'orange',\n",
    "           'alpha': 1,\n",
    "           'node_size': 800,\n",
    "           'width': 1,\n",
    "           'arrowstyle': '-|>',\n",
    "           'arrowsize': 32,\n",
    "           'with_labels': True,\n",
    "           'font_size': 24,\n",
    "           'font_color': 'black'}\n",
    "\n",
    "# draw the graph\n",
    "nx.draw(G)\n",
    "\n",
    "# title\n",
    "plt.title('Visual representation\\n', fontsize=32)\n",
    "\n",
    "# show the plot\n",
    "plt.show()"
   ]
  },
  {
   "cell_type": "markdown",
   "metadata": {
    "hide_input": false,
    "slideshow": {
     "slide_type": "subslide"
    }
   },
   "source": [
    "# One-mode, undirected, weighted graph\n",
    "\n",
    "**Example:** 'communication' network ― e.g., the extent to which to two individuals exchange emails."
   ]
  },
  {
   "cell_type": "markdown",
   "metadata": {
    "cell_style": "split",
    "hide_input": true,
    "slideshow": {
     "slide_type": "fragment"
    }
   },
   "source": [
    "**Adjacency matrix**\n",
    "\n",
    "$\n",
    "A_{i,j} = \n",
    " \\begin{pmatrix}\n",
    "  0 & 3 & 0 & 2 \\\\\n",
    "  3 & 0 & 1 & 0 \\\\\n",
    "  0 & 1 & 0 & 3 \\\\\n",
    "  2 & 0 & 3 & 0 \\\\\n",
    " \\end{pmatrix}\n",
    " $"
   ]
  },
  {
   "cell_type": "code",
   "execution_count": 4,
   "metadata": {
    "ExecuteTime": {
     "end_time": "2020-10-08T13:14:34.841220Z",
     "start_time": "2020-10-08T13:14:34.656495Z"
    },
    "cell_style": "split",
    "hide_input": true,
    "scrolled": true,
    "slideshow": {
     "slide_type": "fragment"
    }
   },
   "outputs": [
    {
     "data": {
      "image/png": "[encoded data removed]",
      "text/plain": [
       "<Figure size 432x288 with 1 Axes>"
      ]
     },
     "metadata": {},
     "output_type": "display_data"
    }
   ],
   "source": [
    "# initialize the graph\n",
    "G = nx.Graph()\n",
    "\n",
    "# define the set of nodes\n",
    "node_list = [0, 1, 2, 3]\n",
    "\n",
    "# populate the graph with nodes\n",
    "G.add_nodes_from(node_list)\n",
    "\n",
    "# define the set of edges\n",
    "edge_list = [(0, 1), (1, 2)]\n",
    "\n",
    "edge_list = [(0, 1, {'w': 3}),\n",
    "             (0, 3, {'w': 2}),\n",
    "             (1, 2, {'w': 1}),\n",
    "             (2, 3, {'w': 3})]\n",
    "\n",
    "# populate the graph with edges\n",
    "G.add_edges_from(edge_list)\n",
    "\n",
    "# define labels \n",
    "edge_labels=dict([((u,v,),d['w']) for u,v,d in G.edges(data=True)])\n",
    "\n",
    "# fix drawing options\n",
    "options = {'node_color': 'green',\n",
    "           'alpha': 1,\n",
    "           'node_size': 800,\n",
    "           'width': 1,\n",
    "           'with_labels': True,\n",
    "           'font_size': 22,\n",
    "           'font_color': 'white'}\n",
    "\n",
    "# fix the position of the nodes to improve readability\n",
    "pos=nx.spring_layout(G)\n",
    "\n",
    "# draw the network\n",
    "nx.draw_networkx_edge_labels(G, pos, edge_labels = edge_labels, font_size=22)\n",
    "nx.draw(G, pos, **options)\n",
    "\n",
    "# title of the plot\n",
    "plt.title('Visual representation\\n', fontsize=32)\n",
    "\n",
    "# show the network\n",
    "plt.show()"
   ]
  },
  {
   "cell_type": "markdown",
   "metadata": {
    "slideshow": {
     "slide_type": "subslide"
    }
   },
   "source": [
    "# One-mode, directed, weighted graph\n",
    "\n",
    "**Example:** rivalry among hip-hop artists ― i.e., the extent to which artist 'i' perceives artist 'j' as a rival"
   ]
  },
  {
   "cell_type": "markdown",
   "metadata": {
    "cell_style": "split",
    "slideshow": {
     "slide_type": "fragment"
    }
   },
   "source": [
    "**Adjacency matrix**\n",
    "\n",
    "$\n",
    "A_{i,j} = \n",
    " \\begin{pmatrix}\n",
    "  0 & 3 & 21 & 15 \\\\\n",
    "  3 & 0 & 1 & 13 \\\\\n",
    "  4 & 8 & 0 & 7 \\\\\n",
    "  2 & 0 &19 & 0 \\\\\n",
    " \\end{pmatrix}\n",
    " $"
   ]
  },
  {
   "cell_type": "code",
   "execution_count": 10,
   "metadata": {
    "cell_style": "split",
    "hide_input": false,
    "slideshow": {
     "slide_type": "fragment"
    }
   },
   "outputs": [
    {
     "data": {
      "image/png": "[encoded data removed]",
      "text/plain": [
       "<Figure size 576x576 with 2 Axes>"
      ]
     },
     "metadata": {
      "needs_background": "light"
     },
     "output_type": "display_data"
    }
   ],
   "source": [
    "# generate a directed, k-out network\n",
    "G = nx.generators.directed.random_k_out_graph(10, 3, 0.5)\n",
    "\n",
    "# fix the position of nodes\n",
    "pos = nx.layout.spring_layout(G)\n",
    "\n",
    "# create figure\n",
    "fig = plt.figure(figsize=(8, 8))\n",
    "\n",
    "# fix the size of nodes (optional)\n",
    "# node_sizes = [3 + 10 * i for i in range(len(G))]\n",
    "\n",
    "# make the color of ties proportional to 'dyadic rivalry'\n",
    "M = G.number_of_edges()\n",
    "edge_colors = range(2, M + 2)\n",
    "\n",
    "# fix transparency to avoid overplotting\n",
    "edge_alphas = [(5 + i) / (M + 4) for i in range(M)]\n",
    "\n",
    "# draw nodes\n",
    "nodes = nx.draw_networkx_nodes(G, pos, node_color='#afb5bc')\n",
    "\n",
    "# draw arrows\n",
    "edges = nx.draw_networkx_edges(G, pos, arrowstyle='->',\n",
    "                               arrowsize=25, edge_color=edge_colors,\n",
    "                               edge_cmap=plt.cm.rainbow, width=2)\n",
    "# set alpha value for each edge\n",
    "for i in range(M):\n",
    "    edges[i].set_alpha(edge_alphas[i])\n",
    "\n",
    "pc = mpl.collections.PatchCollection(edges, cmap=plt.cm.rainbow)\n",
    "pc.set_array(edge_colors)\n",
    "\n",
    "plt.title(\"Visual representation\\n(the color of ties reflects rivalry intensity)\", fontsize=24)\n",
    "\n",
    "ax = plt.gca()\n",
    "ax.set_axis_off()\n",
    "plt.colorbar(pc, ax=ax)\n",
    "plt.show()"
   ]
  },
  {
   "cell_type": "markdown",
   "metadata": {
    "slideshow": {
     "slide_type": "subslide"
    }
   },
   "source": [
    "# Two-mode, undirected, unweighted graph\n",
    "\n",
    "**Example:** Spotify users that listen to songs"
   ]
  },
  {
   "cell_type": "code",
   "execution_count": 11,
   "metadata": {
    "ExecuteTime": {
     "end_time": "2020-10-08T13:34:16.204024Z",
     "start_time": "2020-10-08T13:34:04.973856Z"
    },
    "hide_input": true
   },
   "outputs": [
    {
     "data": {
      "text/html": [
       "<div>\n",
       "<style scoped>\n",
       "    .dataframe tbody tr th:only-of-type {\n",
       "        vertical-align: middle;\n",
       "    }\n",
       "\n",
       "    .dataframe tbody tr th {\n",
       "        vertical-align: top;\n",
       "    }\n",
       "\n",
       "    .dataframe thead th {\n",
       "        text-align: right;\n",
       "    }\n",
       "</style>\n",
       "<table border=\"1\" class=\"dataframe\">\n",
       "  <thead>\n",
       "    <tr style=\"text-align: right;\">\n",
       "      <th></th>\n",
       "      <th>user</th>\n",
       "      <th>song</th>\n",
       "    </tr>\n",
       "  </thead>\n",
       "  <tbody>\n",
       "    <tr>\n",
       "      <th>0</th>\n",
       "      <td>0</td>\n",
       "      <td>a</td>\n",
       "    </tr>\n",
       "    <tr>\n",
       "      <th>1</th>\n",
       "      <td>1</td>\n",
       "      <td>b</td>\n",
       "    </tr>\n",
       "    <tr>\n",
       "      <th>2</th>\n",
       "      <td>2</td>\n",
       "      <td>b</td>\n",
       "    </tr>\n",
       "    <tr>\n",
       "      <th>3</th>\n",
       "      <td>2</td>\n",
       "      <td>c</td>\n",
       "    </tr>\n",
       "    <tr>\n",
       "      <th>4</th>\n",
       "      <td>2</td>\n",
       "      <td>d</td>\n",
       "    </tr>\n",
       "  </tbody>\n",
       "</table>\n",
       "</div>"
      ],
      "text/plain": [
       "   user song\n",
       "0     0    a\n",
       "1     1    b\n",
       "2     2    b\n",
       "3     2    c\n",
       "4     2    d"
      ]
     },
     "execution_count": 11,
     "metadata": {},
     "output_type": "execute_result"
    }
   ],
   "source": [
    "import pandas as pd\n",
    "# fake consumption network\n",
    "df = pd.DataFrame({'user': [0, 1, 2, 2, 2],\n",
    "                   'song': ['a', 'b', 'b', 'c', 'd']})\n",
    "df"
   ]
  },
  {
   "cell_type": "markdown",
   "metadata": {
    "cell_style": "split",
    "hide_input": true,
    "slideshow": {
     "slide_type": "fragment"
    }
   },
   "source": [
    "**Incidence matrix**\n",
    "\n",
    "$\n",
    "I_{i,j} = \n",
    " \\begin{pmatrix}\n",
    "  1 & 0 & 0 & 0 \\\\\n",
    "  0 & 1 & 0 & 0 \\\\\n",
    "  0 & 1 & 1 & 1 \\\\\n",
    " \\end{pmatrix}\n",
    "$\n",
    " \n",
    "!! Note !! The matrix we use for two-mode network takes a different name (incidence instead of adjacency)"
   ]
  },
  {
   "cell_type": "code",
   "execution_count": 12,
   "metadata": {
    "ExecuteTime": {
     "end_time": "2020-10-08T13:39:27.801796Z",
     "start_time": "2020-10-08T13:39:27.618515Z"
    },
    "cell_style": "split",
    "hide_input": true,
    "slideshow": {
     "slide_type": "fragment"
    }
   },
   "outputs": [
    {
     "data": {
      "image/png": "[encoded data removed]",
      "text/plain": [
       "<Figure size 432x288 with 1 Axes>"
      ]
     },
     "metadata": {},
     "output_type": "display_data"
    }
   ],
   "source": [
    "# fake consumption network\n",
    "df = pd.DataFrame({'user': [0, 1, 2, 2, 2],\n",
    "                   'song': ['a', 'b', 'b', 'c', 'd']})\n",
    "\n",
    "# initialize graph\n",
    "B = nx.Graph()\n",
    "\n",
    "# add user nodes\n",
    "users = df['user'].unique()\n",
    "B.add_nodes_from(users, bipartite=0)\n",
    "\n",
    "# add song/product nodes\n",
    "songs = df['song'].unique()\n",
    "B.add_nodes_from(songs, bipartite=1)\n",
    "\n",
    "# egdes\n",
    "edges = list(zip(df.user, df.song))\n",
    "B.add_edges_from(edges)\n",
    "\n",
    "# fix positions for user nodes\n",
    "pos = {node: [0, i] for i, node in enumerate(users)}\n",
    "\n",
    "# fix positions for song/product nodes\n",
    "pos.update({node: [1, i] for i, node in enumerate(songs)})\n",
    "\n",
    "\n",
    "# draw the network - user nodes\n",
    "nx.draw(B,\n",
    "        pos,\n",
    "        nodelist=list(users),\n",
    "        node_color='#f4d142',\n",
    "        with_labels=True,\n",
    "        node_size=1500,\n",
    "        font_size=24)\n",
    "\n",
    "# draw the network - song/product nodes\n",
    "nx.draw(B,\n",
    "        pos,\n",
    "        nodelist=list(songs),\n",
    "        node_color='#77afea',\n",
    "        node_shape='s',\n",
    "        with_labels=True,\n",
    "        node_size=1500,\n",
    "        font_size=24)\n",
    "\n",
    "# title of the plot\n",
    "plt.title(\"Visual representation\", fontsize=24)\n",
    "\n",
    "# show the plot\n",
    "plt.show()"
   ]
  },
  {
   "cell_type": "markdown",
   "metadata": {
    "ExecuteTime": {
     "end_time": "2018-10-03T15:30:26.068372Z",
     "start_time": "2018-10-03T15:30:22.779061Z"
    },
    "cell_style": "center",
    "hide_input": true,
    "slideshow": {
     "slide_type": "slide"
    }
   },
   "source": [
    "# Business case discussion\n",
    "\n",
    "How do networks intersect with the **Soundcloud** platform?\n",
    "\n",
    "<img src=\"images/soundcloud_logo.jpg\" alt=\"Drawing\" style=\"width: 800px;\"/>"
   ]
  },
  {
   "cell_type": "markdown",
   "metadata": {
    "slideshow": {
     "slide_type": "subslide"
    }
   },
   "source": [
    "# Business case discussion\n",
    "\n",
    "<img src=\"images/framework.png\" alt=\"Drawing\" style=\"width: 800px;\"/>\n",
    "\n",
    "Source: Santoni, Stark, & Ferriani (2017)"
   ]
  }
 ],
 "metadata": {
  "celltoolbar": "Slideshow",
  "hide_input": false,
  "kernelspec": {
   "display_name": "Python 3 (ipykernel)",
   "language": "python",
   "name": "python3"
  },
  "language_info": {
   "codemirror_mode": {
    "name": "ipython",
    "version": 3
   },
   "file_extension": ".py",
   "mimetype": "text/x-python",
   "name": "python",
   "nbconvert_exporter": "python",
   "pygments_lexer": "ipython3",
   "version": "3.9.1"
  },
  "latex_envs": {
   "LaTeX_envs_menu_present": true,
   "autoclose": false,
   "autocomplete": true,
   "bibliofile": "biblio.bib",
   "cite_by": "apalike",
   "current_citInitial": 1,
   "eqLabelWithNumbers": true,
   "eqNumInitial": 1,
   "hotkeys": {
    "equation": "Ctrl-E",
    "itemize": "Ctrl-I"
   },
   "labels_anchors": false,
   "latex_user_defs": false,
   "report_style_numbering": false,
   "user_envs_cfg": false
  },
  "nbTranslate": {
   "displayLangs": [
    "*"
   ],
   "hotkey": "alt-t",
   "langInMainMenu": true,
   "sourceLang": "en",
   "targetLang": "fr",
   "useGoogleTranslate": true
  },
  "rise": {
   "enable_chalkboard": true
  },
  "toc": {
   "base_numbering": 1,
   "nav_menu": {},
   "number_sections": false,
   "sideBar": false,
   "skip_h1_title": false,
   "title_cell": "Table of Contents",
   "title_sidebar": "Contents",
   "toc_cell": true,
   "toc_position": {
    "height": "1046.25px",
    "left": "43.9922px",
    "top": "134.16px",
    "width": "480px"
   },
   "toc_section_display": false,
   "toc_window_display": false
  },
  "varInspector": {
   "cols": {
    "lenName": 16,
    "lenType": 16,
    "lenVar": 40
   },
   "kernels_config": {
    "python": {
     "delete_cmd_postfix": "",
     "delete_cmd_prefix": "del ",
     "library": "var_list.py",
     "varRefreshCmd": "print(var_dic_list())"
    },
    "r": {
     "delete_cmd_postfix": ") ",
     "delete_cmd_prefix": "rm(",
     "library": "var_list.r",
     "varRefreshCmd": "cat(var_dic_list()) "
    }
   },
   "types_to_exclude": [
    "module",
    "function",
    "builtin_function_or_method",
    "instance",
    "_Feature"
   ],
   "window_display": false
  }
 },
 "nbformat": 4,
 "nbformat_minor": 2
}
