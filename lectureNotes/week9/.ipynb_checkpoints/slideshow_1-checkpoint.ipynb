{
 "cells": [
  {
   "cell_type": "markdown",
   "metadata": {
    "slideshow": {
     "slide_type": "slide"
    }
   },
   "source": [
    "# Network analytics, week 9\n",
    "\n",
    "<img src='images/bond_percolation.gif' width=400px/>"
   ]
  },
  {
   "cell_type": "markdown",
   "metadata": {
    "slideshow": {
     "slide_type": "slide"
    }
   },
   "source": [
    "# Agenda\n",
    "\n",
    "- percolation  theory\n",
    "- network  robustness"
   ]
  },
  {
   "cell_type": "markdown",
   "metadata": {
    "slideshow": {
     "slide_type": "slide"
    }
   },
   "source": [
    "# Errors in complex systems"
   ]
  },
  {
   "cell_type": "markdown",
   "metadata": {
    "cell_style": "split",
    "slideshow": {
     "slide_type": "fragment"
    }
   },
   "source": [
    "Many natural and social systems have a remarkable ability to sustain their basic functions even when some of their components fail:\n",
    "\n",
    "+ large organizations can function despite numerous absent employees\n",
    "+ a railway network can still be connected despite multiple stations' closure\n",
    "\n",
    "Understanding the __origins of this robustness__ is important for many disciplines."
   ]
  },
  {
   "cell_type": "markdown",
   "metadata": {
    "cell_style": "split",
    "slideshow": {
     "slide_type": "fragment"
    }
   },
   "source": [
    "<img src='images/error.jpg' width=600px/>"
   ]
  },
  {
   "cell_type": "markdown",
   "metadata": {
    "slideshow": {
     "slide_type": "subslide"
    }
   },
   "source": [
    "# The concept of robustness in different disciplines\n",
    "\n",
    "- **robustness** is a central question in biology and medicine, helping us understand why some mutations lead to diseases and others do not\n",
    "- it is of concern for social scientists and economists, who explore the stability of human societies and institutions in the face of such disrupting forces as famine, war, and changes in social and economic order.\n",
    "- it is a key issue for ecologists and environmental scientists, who seek to predict the failure of an ecosystem when faced with the disruptive effects of human activity.\n",
    "- it is the ultimate goal in engineering, aiming to design communication systems, cars, or airplanes that can carry out their basic functions despite occasional component failures"
   ]
  },
  {
   "cell_type": "markdown",
   "metadata": {
    "slideshow": {
     "slide_type": "subslide"
    }
   },
   "source": [
    "# A concrete example from the field of supply chain management\n",
    "\n",
    "<img src='images/carvalho_et_al.png' width=600px />"
   ]
  },
  {
   "cell_type": "markdown",
   "metadata": {
    "slideshow": {
     "slide_type": "subslide"
    }
   },
   "source": [
    "# What are the possible perturbations that affect complex systems?"
   ]
  },
  {
   "cell_type": "markdown",
   "metadata": {
    "slideshow": {
     "slide_type": "subslide"
    }
   },
   "source": [
    "# How does a network lens help us to get a better understanding of the response of complex systems vis a' vis perturbations?"
   ]
  },
  {
   "cell_type": "markdown",
   "metadata": {
    "slideshow": {
     "slide_type": "subslide"
    }
   },
   "source": [
    "# Percolation Theory (1/1)\n",
    "\n",
    "Percolation theory is a longstanding tradition of research in the field of network physics that emphasizes:\n",
    "\n",
    "+ two types of perturbations:\n",
    "    - node removal\n",
    "    - link removal\n",
    "+ the extent to which networks can absorb perturbations while remaining functioning"
   ]
  },
  {
   "cell_type": "markdown",
   "metadata": {
    "slideshow": {
     "slide_type": "subslide"
    }
   },
   "source": [
    "# Percolation Theory (1/2)"
   ]
  },
  {
   "cell_type": "markdown",
   "metadata": {
    "cell_style": "split",
    "slideshow": {
     "slide_type": "fragment"
    }
   },
   "source": [
    "- how many nodes do we have to delete to fragment a network into isolated components?\n",
    "    * e.g., what fraction of Internet routers must break down so that the Internet turns into clusters of computers that are unable to communicate with each other?"
   ]
  },
  {
   "cell_type": "markdown",
   "metadata": {
    "cell_style": "split",
    "slideshow": {
     "slide_type": "fragment"
    }
   },
   "source": [
    "<img src='images/percolation_theory_example.jpg' width=600px/>"
   ]
  },
  {
   "cell_type": "markdown",
   "metadata": {
    "slideshow": {
     "slide_type": "subslide"
    }
   },
   "source": [
    "# Node removal and network breakdown\n",
    "\n",
    "<img src='images/f_star.jpg' width=600px/>"
   ]
  },
  {
   "cell_type": "markdown",
   "metadata": {
    "slideshow": {
     "slide_type": "slide"
    }
   },
   "source": [
    "# Key insights from prior research and practice"
   ]
  },
  {
   "cell_type": "markdown",
   "metadata": {
    "slideshow": {
     "slide_type": "subslide"
    }
   },
   "source": [
    "# Key insight #1\n",
    "\n",
    "## Small-scale, localized shocks can rapidly escalate into global failures\n",
    "\n",
    "<img src='images/localized_attacks.png' width=600px/>"
   ]
  },
  {
   "cell_type": "markdown",
   "metadata": {
    "slideshow": {
     "slide_type": "subslide"
    }
   },
   "source": [
    "# Key insight #2\n",
    "\n",
    "## Certain nodes can be 'reinforced' to avoid global failure\n",
    "\n",
    "<img src='images/reinforced_nodes.png' width=600px/>"
   ]
  },
  {
   "cell_type": "markdown",
   "metadata": {
    "slideshow": {
     "slide_type": "slide"
    }
   },
   "source": [
    "# Open line of inquiry"
   ]
  },
  {
   "cell_type": "markdown",
   "metadata": {
    "slideshow": {
     "slide_type": "subslide"
    }
   },
   "source": [
    "# What do we know about network recovery?\n",
    "\n",
    "## Recovery seems to depend on key 'phase flipping' phenomena\n",
    "\n",
    "<img src='images/recovery_dynamics.png' width=600px/>"
   ]
  },
  {
   "cell_type": "markdown",
   "metadata": {
    "slideshow": {
     "slide_type": "slide"
    }
   },
   "source": [
    "# Assessing network robustness in the data"
   ]
  },
  {
   "cell_type": "markdown",
   "metadata": {
    "slideshow": {
     "slide_type": "subslide"
    }
   },
   "source": [
    "# From Forest Fires to Percolation Theory"
   ]
  },
  {
   "cell_type": "markdown",
   "metadata": {
    "cell_style": "split",
    "slideshow": {
     "slide_type": "subslide"
    }
   },
   "source": [
    "__The analogy__\n",
    "\n",
    "We can use the spread of a fire in a forest to illustrate the basic concepts of percolation theory. Let us assume that each pebble in the below-displayed image is a tree and that the lattice describes a forest. If a tree catches fire, it ignites the neighboring trees; these, in turn ignite their neighbors. The fire continues to spread until no burning tree has a non-burning neighbor."
   ]
  },
  {
   "cell_type": "markdown",
   "metadata": {
    "cell_style": "split",
    "slideshow": {
     "slide_type": "subslide"
    }
   },
   "source": [
    "__Questions__\n",
    "\n",
    "* If we randomly ignite a tree, what fraction of the forest burns down?\n",
    "* And how long it takes the fire to burn out?"
   ]
  },
  {
   "cell_type": "markdown",
   "metadata": {
    "slideshow": {
     "slide_type": "subslide"
    }
   },
   "source": [
    "# Forest Fire models with different density values"
   ]
  },
  {
   "cell_type": "markdown",
   "metadata": {
    "cell_style": "split",
    "slideshow": {
     "slide_type": "subslide"
    }
   },
   "source": [
    "<img src='images/forest_fire.jpg' width=300px />"
   ]
  },
  {
   "cell_type": "markdown",
   "metadata": {
    "cell_style": "split",
    "slideshow": {
     "slide_type": "subslide"
    }
   },
   "source": [
    "Main insights emerging from the computer simulation:\n",
    "\n",
    "* the amount of time a forest burns is contingent on the density of ties among nodes\n",
    "* so is the the fraction of the forest burnt"
   ]
  },
  {
   "cell_type": "markdown",
   "metadata": {
    "slideshow": {
     "slide_type": "subslide"
    }
   },
   "source": [
    "# Robustness of scale free networks\n",
    "\n",
    "Percolation theory focuses mainly on regular lattices, whose nodes have identical degrees, or on random networks, whose nodes have comparable degrees.\n",
    "\n",
    "- how does node removal impact scale-free networks?\n",
    "- how do the hubs affect the percolation transition?"
   ]
  },
  {
   "cell_type": "markdown",
   "metadata": {
    "slideshow": {
     "slide_type": "subslide"
    }
   },
   "source": [
    "# Robustness of the 'web'\n",
    "\n",
    "<img src='images/internet.jpg' width=400px />\n",
    "\n",
    "Notes. ― The plots indicate that the Internet and in general a scale-free network do not fall apart after the removal of a finite fraction of nodes. We need to remove almost all nodes (i.e. fc=1) to fragment these networks. "
   ]
  },
  {
   "cell_type": "markdown",
   "metadata": {
    "slideshow": {
     "slide_type": "subslide"
    }
   },
   "source": [
    "# Scale-free Network Under Node Failures"
   ]
  },
  {
   "cell_type": "code",
   "execution_count": 2,
   "metadata": {
    "ExecuteTime": {
     "end_time": "2020-11-29T21:55:14.627654Z",
     "start_time": "2020-11-29T21:55:14.614245Z"
    },
    "slideshow": {
     "slide_type": "fragment"
    }
   },
   "outputs": [
    {
     "data": {
      "text/html": [
       "<video src=\"http://networksciencebook.com/images/ch-08/video-8-1.mov\" controls  >\n",
       "      Your browser does not support the <code>video</code> element.\n",
       "    </video>"
      ],
      "text/plain": [
       "<IPython.core.display.Video object>"
      ]
     },
     "execution_count": 2,
     "metadata": {},
     "output_type": "execute_result"
    }
   ],
   "source": [
    "from IPython.display import Video\n",
    "\n",
    "Video(\"http://networksciencebook.com/images/ch-08/video-8-1.mov\")"
   ]
  },
  {
   "cell_type": "markdown",
   "metadata": {},
   "source": [
    "# Yet, not all scale-free network have born equal\n",
    "\n",
    "##  Critical thresholds change with $\\gamma$\n",
    "\n",
    "<img src='images/role_of_gamma.jpg' width=500px />"
   ]
  },
  {
   "cell_type": "markdown",
   "metadata": {
    "slideshow": {
     "slide_type": "subslide"
    }
   },
   "source": [
    "# Empirical thresholds\n",
    "<img src='images/empirical_data.png' width=600px />"
   ]
  },
  {
   "cell_type": "markdown",
   "metadata": {
    "slideshow": {
     "slide_type": "subslide"
    }
   },
   "source": [
    "# Attack tolerance\n",
    "\n",
    "- the important role the hubs play in holding together a scale-free network motivates our next question:\n",
    "    - what if we do not remove the nodes randomly, but go after the hubs?\n",
    "    \n",
    "<img src='images/attack_tolerance.jpg' width=500px />"
   ]
  },
  {
   "cell_type": "markdown",
   "metadata": {
    "slideshow": {
     "slide_type": "subslide"
    }
   },
   "source": [
    "# Scale-free networks under node failure"
   ]
  },
  {
   "cell_type": "code",
   "execution_count": 4,
   "metadata": {
    "ExecuteTime": {
     "end_time": "2020-11-29T22:09:10.412863Z",
     "start_time": "2020-11-29T22:09:10.409118Z"
    },
    "cell_style": "split",
    "slideshow": {
     "slide_type": "fragment"
    }
   },
   "outputs": [
    {
     "data": {
      "text/html": [
       "<video src=\"http://networksciencebook.com/images/ch-08/video-8-1.mov\" controls  >\n",
       "      Your browser does not support the <code>video</code> element.\n",
       "    </video>"
      ],
      "text/plain": [
       "<IPython.core.display.Video object>"
      ]
     },
     "execution_count": 4,
     "metadata": {},
     "output_type": "execute_result"
    }
   ],
   "source": [
    "Video('http://networksciencebook.com/images/ch-08/video-8-1.mov')"
   ]
  },
  {
   "cell_type": "code",
   "execution_count": 6,
   "metadata": {
    "ExecuteTime": {
     "end_time": "2020-11-29T22:10:04.420916Z",
     "start_time": "2020-11-29T22:10:04.416428Z"
    },
    "cell_style": "split",
    "slideshow": {
     "slide_type": "fragment"
    }
   },
   "outputs": [
    {
     "data": {
      "text/html": [
       "<video src=\"http://networksciencebook.com/images/ch-08/video-8-2.mov\" controls  >\n",
       "      Your browser does not support the <code>video</code> element.\n",
       "    </video>"
      ],
      "text/plain": [
       "<IPython.core.display.Video object>"
      ]
     },
     "execution_count": 6,
     "metadata": {},
     "output_type": "execute_result"
    }
   ],
   "source": [
    "Video('http://networksciencebook.com/images/ch-08/video-8-2.mov')"
   ]
  },
  {
   "cell_type": "markdown",
   "metadata": {
    "slideshow": {
     "slide_type": "subslide"
    }
   },
   "source": [
    "# So, what's the network structure that is most tolerant to attacks?\n",
    "\n",
    "<img src='images/most_tolerant_topology.jpg' width=600px />"
   ]
  },
  {
   "cell_type": "markdown",
   "metadata": {
    "slideshow": {
     "slide_type": "slide"
    }
   },
   "source": [
    "# Information cascades and network failure fused together"
   ]
  },
  {
   "cell_type": "markdown",
   "metadata": {
    "slideshow": {
     "slide_type": "subslide"
    }
   },
   "source": [
    "# Failure Propagation Model (1/2)\n",
    "\n",
    "Introduced to model the spread of ideas and opinions, the failure propagation model is frequently used to describe cascading failures as well. The model is defined as follows:\n",
    "\n",
    "* Consider a network with an arbitrary degree distribution, where each node contains an agent. An agent i can be in the state 0 (active or healthy) or 1 (inactive or failed), and is characterized by a breakdown threshold φi = φ for all i.\n",
    "* All agents are initially in the healthy state 0. At time t = 0 one agent switches to state 1, corresponding to an initial component failure or to the release of a new piece of information. In each subsequent time step we randomly pick an agent and update its state following a threshold rule:\n",
    "* If the selected agent i is in state 0, it inspects the state of its ki neighbors. The agent i adopts state 1 (i.e. it also fails) if at least a φ fraction of its ki neighbors are in state 1, otherwise it retains its original state 0.\n",
    "* If the selected agent i is in state 1, it does not change its state."
   ]
  },
  {
   "cell_type": "markdown",
   "metadata": {
    "slideshow": {
     "slide_type": "subslide"
    }
   },
   "source": [
    "# Failure Propagation Model (2/2)\n",
    "\n",
    "In-class application on the implementation of the failure propagation model in Mesa"
   ]
  }
 ],
 "metadata": {
  "celltoolbar": "Slideshow",
  "kernelspec": {
   "display_name": "Python 3",
   "language": "python",
   "name": "python3"
  },
  "language_info": {
   "codemirror_mode": {
    "name": "ipython",
    "version": 3
   },
   "file_extension": ".py",
   "mimetype": "text/x-python",
   "name": "python",
   "nbconvert_exporter": "python",
   "pygments_lexer": "ipython3",
   "version": "3.8.5"
  },
  "latex_envs": {
   "LaTeX_envs_menu_present": true,
   "autoclose": false,
   "autocomplete": true,
   "bibliofile": "biblio.bib",
   "cite_by": "apalike",
   "current_citInitial": 1,
   "eqLabelWithNumbers": true,
   "eqNumInitial": 1,
   "hotkeys": {
    "equation": "Ctrl-E",
    "itemize": "Ctrl-I"
   },
   "labels_anchors": false,
   "latex_user_defs": false,
   "report_style_numbering": false,
   "user_envs_cfg": false
  },
  "toc": {
   "base_numbering": 1,
   "nav_menu": {},
   "number_sections": false,
   "sideBar": true,
   "skip_h1_title": false,
   "title_cell": "Table of Contents",
   "title_sidebar": "Contents",
   "toc_cell": false,
   "toc_position": {},
   "toc_section_display": true,
   "toc_window_display": false
  },
  "varInspector": {
   "cols": {
    "lenName": 16,
    "lenType": 16,
    "lenVar": 40
   },
   "kernels_config": {
    "python": {
     "delete_cmd_postfix": "",
     "delete_cmd_prefix": "del ",
     "library": "var_list.py",
     "varRefreshCmd": "print(var_dic_list())"
    },
    "r": {
     "delete_cmd_postfix": ") ",
     "delete_cmd_prefix": "rm(",
     "library": "var_list.r",
     "varRefreshCmd": "cat(var_dic_list()) "
    }
   },
   "types_to_exclude": [
    "module",
    "function",
    "builtin_function_or_method",
    "instance",
    "_Feature"
   ],
   "window_display": false
  }
 },
 "nbformat": 4,
 "nbformat_minor": 2
}
